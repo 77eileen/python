{
 "cells": [
  {
   "cell_type": "markdown",
   "metadata": {
    "id": "UiT15snpQlPc"
   },
   "source": [
    "# 파이썬 리스트(List) 객체를 판다스 시리즈(Series)로 변환"
   ]
  },
  {
   "cell_type": "code",
   "execution_count": null,
   "metadata": {
    "colab": {
     "base_uri": "https://localhost:8080/"
    },
    "executionInfo": {
     "elapsed": 672,
     "status": "ok",
     "timestamp": 1706163286232,
     "user": {
      "displayName": "Steve",
      "userId": "13015281013241816762"
     },
     "user_tz": -540
    },
    "id": "WIjK88bXQO2N",
    "outputId": "50d377a5-6b33-4843-de5c-a09c64871ee8",
    "tags": []
   },
   "outputs": [
    {
     "name": "stdout",
     "output_type": "stream",
     "text": [
      "0    2019-01-02\n",
      "1          3.14\n",
      "2           ABC\n",
      "3           100\n",
      "4          True\n",
      "dtype: object\n"
     ]
    }
   ],
   "source": [
    "import pandas as pd\n",
    "\n",
    "# 리스트를 시리즈로 변환하여 변수 sr에 저장\n",
    "list_data = ['2019-01-02', 3.14, 'ABC', 100, True]\n",
    "sr = pd.Series(list_data)\n",
    "print(sr)"
   ]
  },
  {
   "cell_type": "code",
   "execution_count": 3,
   "metadata": {
    "colab": {
     "base_uri": "https://localhost:8080/"
    },
    "executionInfo": {
     "elapsed": 4,
     "status": "ok",
     "timestamp": 1706164599922,
     "user": {
      "displayName": "Steve",
      "userId": "13015281013241816762"
     },
     "user_tz": -540
    },
    "id": "6ugMw1aJQJIj",
    "outputId": "99ca7ed1-79df-4d09-9a3a-aadf5001ea6b",
    "tags": []
   },
   "outputs": [
    {
     "name": "stdout",
     "output_type": "stream",
     "text": [
      "RangeIndex(start=0, stop=5, step=1)\n",
      "[0, 1, 2, 3, 4]\n"
     ]
    }
   ],
   "source": [
    "# 인덱스 배열은 변수 idx에 저장\n",
    "idx = sr.index\n",
    "print(idx)  #문자형 또는 규칙 배열없는 경우는 인덱스가 전체가 나오지만, 0,1,2,3,4 와 같이 규칙 배열이 있다면 RangeIndex(start=0, stop=5, step=1) 이렇게 출력됨.\n",
    "print(list(idx))  #인덱스 보고 싶으면 list 씌우기"
   ]
  },
  {
   "cell_type": "code",
   "execution_count": 4,
   "metadata": {
    "colab": {
     "base_uri": "https://localhost:8080/"
    },
    "executionInfo": {
     "elapsed": 3,
     "status": "ok",
     "timestamp": 1706164602935,
     "user": {
      "displayName": "Steve",
      "userId": "13015281013241816762"
     },
     "user_tz": -540
    },
    "id": "KU0Uz1DZVcDF",
    "outputId": "82a16bff-4be4-4339-8e52-075f16451884",
    "tags": []
   },
   "outputs": [
    {
     "name": "stdout",
     "output_type": "stream",
     "text": [
      "['2019-01-02' 3.14 'ABC' 100 True]\n"
     ]
    },
    {
     "data": {
      "text/plain": [
       "array(['2019-01-02', 3.14, 'ABC', 100, True], dtype=object)"
      ]
     },
     "execution_count": 4,
     "metadata": {},
     "output_type": "execute_result"
    }
   ],
   "source": [
    "# 데이터 값 배열은 변수 val에 저장\n",
    "val = sr.values\n",
    "print(val)\n",
    "val"
   ]
  },
  {
   "cell_type": "code",
   "execution_count": null,
   "metadata": {
    "colab": {
     "base_uri": "https://localhost:8080/"
    },
    "executionInfo": {
     "elapsed": 3,
     "status": "ok",
     "timestamp": 1706164513491,
     "user": {
      "displayName": "Steve",
      "userId": "13015281013241816762"
     },
     "user_tz": -540
    },
    "id": "-JhXU5LiU9XB",
    "outputId": "668ae04e-f8a3-4719-991b-2222a8725e59",
    "tags": []
   },
   "outputs": [
    {
     "name": "stdout",
     "output_type": "stream",
     "text": [
      "object\n"
     ]
    }
   ],
   "source": [
    "# 시리즈 배열을 구성하는 원소의 자료형 (values)\n",
    "print(sr.dtype)   #sr 리스트에 어떤 타입이 있는지 모르면 type이 object로 출력 (문자+숫자 / 문자 / 특수문자 / 공백 등.. object로 출력됨)"
   ]
  },
  {
   "cell_type": "code",
   "execution_count": null,
   "metadata": {},
   "outputs": [
    {
     "name": "stdout",
     "output_type": "stream",
     "text": [
      "int64\n",
      "object\n",
      "float64\n"
     ]
    }
   ],
   "source": [
    "list_data2 = [1,2,3]\n",
    "sr2 = pd.Series(list_data2)\n",
    "print(sr2.dtype)    #sr2 리스트에 있는 타입이 int다.\n",
    "\n",
    "list_data3 = ['사과', '바나나']\n",
    "sr3 = pd.Series(list_data3)\n",
    "print(sr3.dtype)    #sr3 리스트에 문자형으로만 되어 있어도 object로 나옴\n",
    "\n",
    "list_data4 = [1.5, 2.5]\n",
    "sr4 = pd.Series(list_data4)\n",
    "print(sr4.dtype)    #sr4 리스트에 소수점만있으면 float으로 출력"
   ]
  },
  {
   "cell_type": "code",
   "execution_count": null,
   "metadata": {
    "colab": {
     "base_uri": "https://localhost:8080/"
    },
    "executionInfo": {
     "elapsed": 4,
     "status": "ok",
     "timestamp": 1706164566241,
     "user": {
      "displayName": "Steve",
      "userId": "13015281013241816762"
     },
     "user_tz": -540
    },
    "id": "lvCWoIAuVHUf",
    "outputId": "be52bd65-4bde-46c4-e97e-0eb0612158ee",
    "tags": []
   },
   "outputs": [
    {
     "name": "stdout",
     "output_type": "stream",
     "text": [
      "5\n"
     ]
    }
   ],
   "source": [
    "# 시리즈 배열의 크기 : 데이터의 갯수 (row 갯수, 가로열의 갯수)\n",
    "print(len(sr))"
   ]
  },
  {
   "cell_type": "code",
   "execution_count": null,
   "metadata": {
    "colab": {
     "base_uri": "https://localhost:8080/"
    },
    "executionInfo": {
     "elapsed": 2,
     "status": "ok",
     "timestamp": 1706164569273,
     "user": {
      "displayName": "Steve",
      "userId": "13015281013241816762"
     },
     "user_tz": -540
    },
    "id": "PVuZqlseVT9B",
    "outputId": "87ba16e0-0f10-4a6b-c701-bccb8263ea07",
    "tags": []
   },
   "outputs": [
    {
     "name": "stdout",
     "output_type": "stream",
     "text": [
      "(5,)\n"
     ]
    }
   ],
   "source": [
    "# 시리즈 배열의 형태 (row, column)\n",
    "print(sr.shape)   #출력 (5,) ==> (row, column수?) 컬럼이없어서 공란으로 나옴?"
   ]
  },
  {
   "cell_type": "code",
   "execution_count": null,
   "metadata": {
    "colab": {
     "base_uri": "https://localhost:8080/"
    },
    "executionInfo": {
     "elapsed": 2,
     "status": "ok",
     "timestamp": 1706164624961,
     "user": {
      "displayName": "Steve",
      "userId": "13015281013241816762"
     },
     "user_tz": -540
    },
    "id": "s3hj5qW4VfJv",
    "outputId": "845eb174-ad60-49ca-cce6-9246770657e6",
    "tags": []
   },
   "outputs": [
    {
     "name": "stdout",
     "output_type": "stream",
     "text": [
      "1\n"
     ]
    }
   ],
   "source": [
    "# 시리즈 배열의 차원\n",
    "print(sr.ndim)  #출력 : 1 ===> 1차원 데이터  / 시리즈는 index 때문에 (모양만) 2차로 보이나, index 를 제외하고 값만 보면 1차원. "
   ]
  },
  {
   "cell_type": "code",
   "execution_count": null,
   "metadata": {},
   "outputs": [],
   "source": [
    "#프레임워크?\n",
    "#tensorflow : 감소추세\n",
    "#pytorch : 증감추세"
   ]
  },
  {
   "cell_type": "code",
   "execution_count": 2,
   "metadata": {},
   "outputs": [
    {
     "name": "stdout",
     "output_type": "stream",
     "text": [
      "0    2019-01-02\n",
      "1          3.14\n",
      "2           ABC\n",
      "3           100\n",
      "4          True\n",
      "dtype: object\n"
     ]
    }
   ],
   "source": [
    "import pandas as pd\n",
    "\n",
    "# 리스트를 시리즈로 변환하여 변수 sr에 저장\n",
    "list_data = ['2019-01-02', 3.14, 'ABC', 100, True]\n",
    "sr = pd.Series(list_data)\n",
    "print(sr)"
   ]
  },
  {
   "cell_type": "markdown",
   "metadata": {
    "id": "7ewtnW9tQ0bn"
   },
   "source": [
    "# 넘파이 배열(ndarray) 객체를 판다스 시리즈(Series)로 변환"
   ]
  },
  {
   "cell_type": "code",
   "execution_count": 7,
   "metadata": {
    "colab": {
     "base_uri": "https://localhost:8080/"
    },
    "executionInfo": {
     "elapsed": 4,
     "status": "ok",
     "timestamp": 1706163466455,
     "user": {
      "displayName": "Steve",
      "userId": "13015281013241816762"
     },
     "user_tz": -540
    },
    "id": "RaFACowZQJLp",
    "outputId": "cd8280db-3212-4225-919e-462e4f3222f7",
    "tags": []
   },
   "outputs": [
    {
     "name": "stdout",
     "output_type": "stream",
     "text": [
      "['2019-01-02' '3.14' 'ABC' '100' 'True']\n",
      "[np.str_('2019-01-02'), np.str_('3.14'), np.str_('ABC'), np.str_('100'), np.str_('True')]\n",
      "[np.str_('2019-01-02'), np.str_('3.14'), np.str_('ABC'), np.str_('100'), np.str_('True')]\n",
      "{np.str_('2019-01-02'), np.str_('100'), np.str_('3.14'), np.str_('ABC'), np.str_('True')}\n",
      "(np.str_('2019-01-02'), np.str_('3.14'), np.str_('ABC'), np.str_('100'), np.str_('True'))\n"
     ]
    }
   ],
   "source": [
    "# numpy 불러오기\n",
    "import numpy as np\n",
    "\n",
    "# 파이썬 리스트를 넘파이 배열로 변환\n",
    "list_data = ['2019-01-02', 3.14, 'ABC', 100, True]\n",
    "numpy_array = np.array(list_data)\n",
    "\n",
    "print(numpy_array)\n",
    "print(list(numpy_array))\n",
    "print(str(list(numpy_array)))\n",
    "print(set(numpy_array))\n",
    "print(tuple(numpy_array))"
   ]
  },
  {
   "cell_type": "code",
   "execution_count": 9,
   "metadata": {
    "colab": {
     "base_uri": "https://localhost:8080/"
    },
    "executionInfo": {
     "elapsed": 272,
     "status": "ok",
     "timestamp": 1706163539615,
     "user": {
      "displayName": "Steve",
      "userId": "13015281013241816762"
     },
     "user_tz": -540
    },
    "id": "8gQEXu7GQJOV",
    "outputId": "e40e75dc-8ad4-43fb-b08d-2cb6f2eda3f7",
    "tags": []
   },
   "outputs": [
    {
     "name": "stdout",
     "output_type": "stream",
     "text": [
      "0    2019-01-02\n",
      "1          3.14\n",
      "2           ABC\n",
      "3           100\n",
      "4          True\n",
      "dtype: object\n"
     ]
    }
   ],
   "source": [
    "# 넘파이 배열(1차원)을 판다스 시리즈로 변환\n",
    "sr2 = pd.Series(list_data)\n",
    "print(sr2)"
   ]
  },
  {
   "cell_type": "code",
   "execution_count": 10,
   "metadata": {},
   "outputs": [
    {
     "data": {
      "text/plain": [
       "(5,)"
      ]
     },
     "execution_count": 10,
     "metadata": {},
     "output_type": "execute_result"
    }
   ],
   "source": [
    "sr2.shape"
   ]
  },
  {
   "cell_type": "code",
   "execution_count": 11,
   "metadata": {},
   "outputs": [
    {
     "data": {
      "text/plain": [
       "1"
      ]
     },
     "execution_count": 11,
     "metadata": {},
     "output_type": "execute_result"
    }
   ],
   "source": [
    "sr2.ndim"
   ]
  }
 ],
 "metadata": {
  "colab": {
   "authorship_tag": "ABX9TyN96FvbRX3SkpnS0kfwXlRG",
   "provenance": []
  },
  "kernelspec": {
   "display_name": "streamlit_prj",
   "language": "python",
   "name": "python3"
  },
  "language_info": {
   "codemirror_mode": {
    "name": "ipython",
    "version": 3
   },
   "file_extension": ".py",
   "mimetype": "text/x-python",
   "name": "python",
   "nbconvert_exporter": "python",
   "pygments_lexer": "ipython3",
   "version": "3.13.7"
  }
 },
 "nbformat": 4,
 "nbformat_minor": 4
}
