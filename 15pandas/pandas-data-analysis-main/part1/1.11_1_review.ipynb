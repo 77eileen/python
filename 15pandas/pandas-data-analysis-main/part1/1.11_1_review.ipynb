{
 "cells": [
  {
   "cell_type": "code",
   "execution_count": 1,
   "id": "bac30a88",
   "metadata": {},
   "outputs": [],
   "source": [
    "import pandas as pd"
   ]
  },
  {
   "cell_type": "code",
   "execution_count": 11,
   "id": "330dcf82",
   "metadata": {},
   "outputs": [
    {
     "name": "stdout",
     "output_type": "stream",
     "text": [
      "     상가업소번호        상호명  지점명\n",
      "0  19956873     하나산부인과  NaN\n",
      "1  20024149   타워광명내과의원  NaN\n",
      "2  20152277  조정현신경외과의원  NaN\n",
      "=======================\n",
      "     상가업소번호        상호명  지점명\n",
      "0  19956873     하나산부인과  NaN\n",
      "1  20024149   타워광명내과의원  NaN\n",
      "2  20152277  조정현신경외과의원  NaN\n",
      "=======================\n",
      "                상호명  지점명\n",
      "상가업소번호                  \n",
      "19956873     하나산부인과  NaN\n",
      "20024149   타워광명내과의원  NaN\n",
      "20152277  조정현신경외과의원  NaN\n"
     ]
    }
   ],
   "source": [
    "# CSV 읽기\n",
    "df = pd.read_csv(\"D:/0python_SNC/15pandas/sample.csv\", encoding='cp949') #디렉토리에서는 \\ 쓰면 안되고 \\\\두번쓰거나 / 이걸로 바꿔주기\n",
    "print(df.iloc[:3, :3])\n",
    "print('=======================')\n",
    "print(df.loc[:2, :'지점명'])\n",
    "print('=======================')\n",
    "df2 =df.iloc[:3, :3]\n",
    "df2 = df2.set_index('상가업소번호')\n",
    "print(df2)\n"
   ]
  }
 ],
 "metadata": {
  "kernelspec": {
   "display_name": "streamlit_prj",
   "language": "python",
   "name": "python3"
  },
  "language_info": {
   "codemirror_mode": {
    "name": "ipython",
    "version": 3
   },
   "file_extension": ".py",
   "mimetype": "text/x-python",
   "name": "python",
   "nbconvert_exporter": "python",
   "pygments_lexer": "ipython3",
   "version": "3.13.7"
  }
 },
 "nbformat": 4,
 "nbformat_minor": 5
}
