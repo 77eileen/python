{
 "cells": [
  {
   "cell_type": "code",
   "execution_count": 9,
   "metadata": {
    "executionInfo": {
     "elapsed": 2337,
     "status": "ok",
     "timestamp": 1706180950836,
     "user": {
      "displayName": "Steve",
      "userId": "13015281013241816762"
     },
     "user_tz": -540
    },
    "id": "PSJ0UQVYOkXc",
    "tags": []
   },
   "outputs": [],
   "source": [
    "# 라이브러리 불러오기\n",
    "import pandas as pd"
   ]
  },
  {
   "cell_type": "code",
   "execution_count": null,
   "metadata": {},
   "outputs": [
    {
     "data": {
      "text/plain": [
       "'d:\\\\0python_SNC\\\\15pandas\\\\pandas-data-analysis-main\\\\pandas-data-analysis-main\\\\part2'"
      ]
     },
     "execution_count": 17,
     "metadata": {},
     "output_type": "execute_result"
    }
   ],
   "source": [
    "pwd  #현재 경로 확인"
   ]
  },
  {
   "cell_type": "code",
   "execution_count": 10,
   "metadata": {
    "tags": []
   },
   "outputs": [
    {
     "data": {
      "text/plain": [
       "['df_excelwriter.xlsx',\n",
       " 'df_sample.csv',\n",
       " 'df_sample.json',\n",
       " 'df_sample.xlsx',\n",
       " 'df_sample_columns.json',\n",
       " 'df_sample_index.json',\n",
       " 'df_sample_no_index.csv',\n",
       " 'df_sample_no_index.xlsx',\n",
       " 'df_sample_records.json',\n",
       " 'df_sample_split.json',\n",
       " 'df_sample_values.json',\n",
       " 'read_csv_sample.csv',\n",
       " 'read_json_sample.json',\n",
       " 'sample.html',\n",
       " 'test.csv',\n",
       " 'test.json',\n",
       " '남북한발전전력량.xlsx']"
      ]
     },
     "execution_count": 10,
     "metadata": {},
     "output_type": "execute_result"
    }
   ],
   "source": [
    "# 경로 폴더의 모든 파일 목록 확인하기\n",
    "import os\n",
    "os.listdir(\"./data\")"
   ]
  },
  {
   "cell_type": "code",
   "execution_count": 23,
   "metadata": {},
   "outputs": [
    {
     "data": {
      "text/plain": [
       "['./data\\\\df_excelwriter.xlsx',\n",
       " './data\\\\df_sample.csv',\n",
       " './data\\\\df_sample.json',\n",
       " './data\\\\df_sample.xlsx',\n",
       " './data\\\\df_sample_columns.json',\n",
       " './data\\\\df_sample_index.json',\n",
       " './data\\\\df_sample_no_index.csv',\n",
       " './data\\\\df_sample_no_index.xlsx',\n",
       " './data\\\\df_sample_records.json',\n",
       " './data\\\\df_sample_split.json',\n",
       " './data\\\\df_sample_values.json',\n",
       " './data\\\\read_csv_sample.csv',\n",
       " './data\\\\read_json_sample.json',\n",
       " './data\\\\sample.html',\n",
       " './data\\\\test.csv',\n",
       " './data\\\\test.json',\n",
       " './data\\\\남북한발전전력량.xlsx']"
      ]
     },
     "execution_count": 23,
     "metadata": {},
     "output_type": "execute_result"
    }
   ],
   "source": [
    "from glob import glob\n",
    "#glob('*.*') 현재 경로의 모든파일\n",
    "glob('./data/*.*')         \n",
    "# 현재경로+하위폴더에 있는게 다 나옴...\n",
    "#('**/*', recursive=True)\n",
    "#특정 확장자를 기재가능함.\n",
    "#glob('./data/*.csv')\n",
    "#df_로 시작하는 모든 파일 확인\n",
    "#glob('./data/df_.*')\n",
    "#파일명만 list 담으려면?\n",
    "# [files.split('\\\\')[-1] for files in glob('./data/*.*')] ==> #상기 os.listdir(\"./data\") 와 동일한 결과물이 나옴"
   ]
  },
  {
   "cell_type": "code",
   "execution_count": 24,
   "metadata": {
    "tags": []
   },
   "outputs": [
    {
     "name": "stdout",
     "output_type": "stream",
     "text": [
      "./data/read_csv_sample.csv\n"
     ]
    }
   ],
   "source": [
    "# 파일경로를 찾고, 변수 file_path에 저장 (문자열 결합)\n",
    "file_path = './data/read_csv_sample.csv'\n",
    "\n",
    "print(file_path)"
   ]
  },
  {
   "cell_type": "code",
   "execution_count": 26,
   "metadata": {
    "tags": []
   },
   "outputs": [
    {
     "name": "stdout",
     "output_type": "stream",
     "text": [
      "data\\read_csv_sample.csv\n"
     ]
    }
   ],
   "source": [
    "# 파일경로를 찾고, 변수 file_path에 저장 (os 모듈 활용)\n",
    "# 운영체제에 맞게 경로를 설정\n",
    "file_path2 = os.path.join('data', 'read_csv_sample.csv')\n",
    "\n",
    "print(file_path2)"
   ]
  },
  {
   "cell_type": "code",
   "execution_count": null,
   "metadata": {},
   "outputs": [
    {
     "data": {
      "text/plain": [
       "'./data\\\\df_sample.csv'"
      ]
     },
     "execution_count": 27,
     "metadata": {},
     "output_type": "execute_result"
    }
   ],
   "source": [
    "from glob import glob\n",
    "glob('./data/*.csv')[2]"
   ]
  },
  {
   "cell_type": "code",
   "execution_count": 28,
   "metadata": {},
   "outputs": [
    {
     "data": {
      "text/html": [
       "<div>\n",
       "<style scoped>\n",
       "    .dataframe tbody tr th:only-of-type {\n",
       "        vertical-align: middle;\n",
       "    }\n",
       "\n",
       "    .dataframe tbody tr th {\n",
       "        vertical-align: top;\n",
       "    }\n",
       "\n",
       "    .dataframe thead th {\n",
       "        text-align: right;\n",
       "    }\n",
       "</style>\n",
       "<table border=\"1\" class=\"dataframe\">\n",
       "  <thead>\n",
       "    <tr style=\"text-align: right;\">\n",
       "      <th></th>\n",
       "      <th>c0</th>\n",
       "      <th>c1</th>\n",
       "      <th>c2</th>\n",
       "      <th>c3</th>\n",
       "    </tr>\n",
       "  </thead>\n",
       "  <tbody>\n",
       "    <tr>\n",
       "      <th>0</th>\n",
       "      <td>0</td>\n",
       "      <td>1</td>\n",
       "      <td>4</td>\n",
       "      <td>7</td>\n",
       "    </tr>\n",
       "    <tr>\n",
       "      <th>1</th>\n",
       "      <td>1</td>\n",
       "      <td>2</td>\n",
       "      <td>5</td>\n",
       "      <td>8</td>\n",
       "    </tr>\n",
       "    <tr>\n",
       "      <th>2</th>\n",
       "      <td>2</td>\n",
       "      <td>3</td>\n",
       "      <td>6</td>\n",
       "      <td>9</td>\n",
       "    </tr>\n",
       "  </tbody>\n",
       "</table>\n",
       "</div>"
      ],
      "text/plain": [
       "   c0  c1  c2  c3\n",
       "0   0   1   4   7\n",
       "1   1   2   5   8\n",
       "2   2   3   6   9"
      ]
     },
     "execution_count": 28,
     "metadata": {},
     "output_type": "execute_result"
    }
   ],
   "source": [
    "pd.read_csv(glob('./data/*.csv')[2])"
   ]
  },
  {
   "cell_type": "code",
   "execution_count": 13,
   "metadata": {
    "tags": []
   },
   "outputs": [
    {
     "name": "stdout",
     "output_type": "stream",
     "text": [
      "   c0  c1  c2  c3\n",
      "0   0   1   4   7\n",
      "1   1   2   5   8\n",
      "2   2   3   6   9\n"
     ]
    }
   ],
   "source": [
    "# read_csv() 함수로 데이터프레임 변환. 변수 df1에 저장\n",
    "df1 = pd.read_csv(file_path)\n",
    "print(df1)"
   ]
  },
  {
   "cell_type": "code",
   "execution_count": null,
   "metadata": {
    "tags": []
   },
   "outputs": [
    {
     "name": "stdout",
     "output_type": "stream",
     "text": [
      "    c0  c1  c2\n",
      "c3            \n",
      "7    0   1   4\n",
      "8    1   2   5\n",
      "9    2   3   6\n"
     ]
    }
   ],
   "source": [
    "# read_csv() 함수로 데이터프레임 변환. 변수 df2에 저장. header=None 옵션\n",
    "df2 = pd.read_csv(file_path, header=None)   #hearder를 표시하지 않겠다.. \n",
    "print(df2)\n",
    "# df2 = pd.read_csv(file_path, index_col='c3')"
   ]
  },
  {
   "cell_type": "code",
   "execution_count": 15,
   "metadata": {
    "tags": []
   },
   "outputs": [
    {
     "name": "stdout",
     "output_type": "stream",
     "text": [
      "   c0  c1  c2  c3\n",
      "0   0   1   4   7\n",
      "1   1   2   5   8\n",
      "2   2   3   6   9\n"
     ]
    }
   ],
   "source": [
    "# read_csv() 함수로 데이터프레임 변환. 변수 df3에 저장. index_col=None 옵션\n",
    "df3 = pd.read_csv(file_path, index_col=None)\n",
    "print(df3)"
   ]
  },
  {
   "cell_type": "code",
   "execution_count": 16,
   "metadata": {
    "colab": {
     "base_uri": "https://localhost:8080/"
    },
    "executionInfo": {
     "elapsed": 388,
     "status": "ok",
     "timestamp": 1706180951222,
     "user": {
      "displayName": "Steve",
      "userId": "13015281013241816762"
     },
     "user_tz": -540
    },
    "id": "jo6BYYnDJNk2",
    "outputId": "60bb5345-a60b-40d1-df03-ff81678a678f",
    "tags": []
   },
   "outputs": [
    {
     "name": "stdout",
     "output_type": "stream",
     "text": [
      "    c1  c2  c3\n",
      "c0            \n",
      "0    1   4   7\n",
      "1    2   5   8\n",
      "2    3   6   9\n"
     ]
    }
   ],
   "source": [
    "# read_csv() 함수로 데이터프레임 변환. 변수 df4에 저장. index_col='c0' 옵션\n",
    "df4 = pd.read_csv(file_path, index_col='c0')\n",
    "print(df4)"
   ]
  }
 ],
 "metadata": {
  "colab": {
   "authorship_tag": "ABX9TyMmPDgPDlEQ9VJpxhthoipr",
   "provenance": []
  },
  "kernelspec": {
   "display_name": "streamlit_prj",
   "language": "python",
   "name": "python3"
  },
  "language_info": {
   "codemirror_mode": {
    "name": "ipython",
    "version": 3
   },
   "file_extension": ".py",
   "mimetype": "text/x-python",
   "name": "python",
   "nbconvert_exporter": "python",
   "pygments_lexer": "ipython3",
   "version": "3.13.7"
  }
 },
 "nbformat": 4,
 "nbformat_minor": 4
}
