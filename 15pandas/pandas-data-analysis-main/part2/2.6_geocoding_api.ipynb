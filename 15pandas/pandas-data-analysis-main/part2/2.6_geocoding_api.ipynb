{
 "cells": [
  {
   "cell_type": "code",
   "execution_count": 1,
   "metadata": {},
   "outputs": [
    {
     "name": "stdout",
     "output_type": "stream",
     "text": [
      "Requirement already satisfied: dotenv in d:\\0python_snc\\streamlit_prj\\lib\\site-packages (0.9.9)\n",
      "Requirement already satisfied: python-dotenv in d:\\0python_snc\\streamlit_prj\\lib\\site-packages (from dotenv) (1.1.1)\n",
      "Note: you may need to restart the kernel to use updated packages.\n"
     ]
    }
   ],
   "source": [
    "%pip install dotenv"
   ]
  },
  {
   "cell_type": "code",
   "execution_count": 2,
   "metadata": {
    "executionInfo": {
     "elapsed": 2337,
     "status": "ok",
     "timestamp": 1706180950836,
     "user": {
      "displayName": "Steve",
      "userId": "13015281013241816762"
     },
     "user_tz": -540
    },
    "id": "PSJ0UQVYOkXc",
    "tags": []
   },
   "outputs": [],
   "source": [
    "# 라이브러리 가져오기\n",
    "import requests\n",
    "import pandas as pd\n",
    "import os\n",
    "import dotenv  #환경변수 요청"
   ]
  },
  {
   "cell_type": "code",
   "execution_count": 3,
   "metadata": {
    "tags": []
   },
   "outputs": [],
   "source": [
    "#카카오 개발자 센터 접속 : http://developers.kakao.com/\n",
    "#앱 > 앱생성 >생성된 앱 클릭 > 왼쪽메뉴 앱 선택 > 일반 선택 > 앱키에서 REST API 키 복사 ==> .env 넣어주기\n",
    "#... > 왼쪽메뉴 앱 > 제품설정 > 카카오맵 : 사용설정에서 ON으로 선택 \n",
    "# 문서>로컬> 이해하기 - 제공API\n",
    "# 문서>로컬> REST API - header 확인\n",
    "\n",
    "dotenv.load_dotenv()\n",
    "my_key = os.getenv('KAKAO_RESTFULL_KEY')"
   ]
  },
  {
   "cell_type": "code",
   "execution_count": null,
   "metadata": {
    "tags": []
   },
   "outputs": [],
   "source": [
    "# 사이트별로 header 정보가 있기도 하고 없기도함.\n",
    "# Kakao Map API 통해 위도, 경도 데이터 가져오는 함수를 정의\n",
    "\n",
    "\n",
    "def get_geocoding(place):\n",
    "    try:\n",
    "        url = f\"https://dapi.kakao.com/v2/local/search/address\"\n",
    "        params = {\n",
    "            'query' : place\n",
    "        }\n",
    "        headers = {\"Authorization\": f\"KakaoAK {my_key}\"}\n",
    "        response = requests.get(url, headers=headers, params=params)  #headers 없는 경우가 많음. 해당 URL에서 header 요구하면 넣기.\n",
    "        result = response.json()\n",
    "        return result[\"documents\"][0][\"y\"], result[\"documents\"][0][\"x\"]\n",
    "    except:\n",
    "        return pd.notna   #pd.notna : 결측치(데이터없음 또는 유효하지않는 데이터)"
   ]
  },
  {
   "cell_type": "code",
   "execution_count": 5,
   "metadata": {
    "tags": []
   },
   "outputs": [
    {
     "name": "stdout",
     "output_type": "stream",
     "text": [
      "1 서울특별시 종로구 세종대로 175\n",
      "2 서울특별시 서초구 서초동 700\n",
      "3 부산광역시 해운대구 해운대해변로 264\n"
     ]
    },
    {
     "data": {
      "text/html": [
       "<div>\n",
       "<style scoped>\n",
       "    .dataframe tbody tr th:only-of-type {\n",
       "        vertical-align: middle;\n",
       "    }\n",
       "\n",
       "    .dataframe tbody tr th {\n",
       "        vertical-align: top;\n",
       "    }\n",
       "\n",
       "    .dataframe thead th {\n",
       "        text-align: right;\n",
       "    }\n",
       "</style>\n",
       "<table border=\"1\" class=\"dataframe\">\n",
       "  <thead>\n",
       "    <tr style=\"text-align: right;\">\n",
       "      <th></th>\n",
       "      <th>위도</th>\n",
       "      <th>경도</th>\n",
       "    </tr>\n",
       "  </thead>\n",
       "  <tbody>\n",
       "    <tr>\n",
       "      <th>서울특별시 종로구 세종대로 175</th>\n",
       "      <td>37.5718478584908</td>\n",
       "      <td>126.976168275947</td>\n",
       "    </tr>\n",
       "    <tr>\n",
       "      <th>서울특별시 서초구 서초동 700</th>\n",
       "      <td>37.4810862955299</td>\n",
       "      <td>127.015245160054</td>\n",
       "    </tr>\n",
       "    <tr>\n",
       "      <th>부산광역시 해운대구 해운대해변로 264</th>\n",
       "      <td>35.1591069824231</td>\n",
       "      <td>129.160283786856</td>\n",
       "    </tr>\n",
       "  </tbody>\n",
       "</table>\n",
       "</div>"
      ],
      "text/plain": [
       "                                     위도                경도\n",
       "서울특별시 종로구 세종대로 175     37.5718478584908  126.976168275947\n",
       "서울특별시 서초구 서초동 700      37.4810862955299  127.015245160054\n",
       "부산광역시 해운대구 해운대해변로 264  35.1591069824231  129.160283786856"
      ]
     },
     "execution_count": 5,
     "metadata": {},
     "output_type": "execute_result"
    }
   ],
   "source": [
    "lat = []  #위도\n",
    "lng = []  #경도\n",
    "\n",
    "# 장소(주소) 리스트\n",
    "places = [\"서울특별시 종로구 세종대로 175\", \n",
    "          \"서울특별시 서초구 서초동 700\", \n",
    "          \"부산광역시 해운대구 해운대해변로 264\"]\n",
    "\n",
    "i=0\n",
    "for place in places:   \n",
    "    i = i + 1\n",
    "    try:\n",
    "        print(i, place)\n",
    "        # get_geocoding 함수의 리턴값 호출하여 geo_location 변수에 저장\n",
    "        place_lat, place_lon = get_geocoding(place)\n",
    "        lat.append(place_lat)\n",
    "        lng.append(place_lon)\n",
    "        \n",
    "    except:\n",
    "        lat.append('')\n",
    "        lng.append('')\n",
    "\n",
    "# 데이터프레임으로 변환하기\n",
    "df = pd.DataFrame({'위도':lat, '경도':lng}, index=places)\n",
    "\n",
    "df"
   ]
  },
  {
   "cell_type": "code",
   "execution_count": null,
   "metadata": {},
   "outputs": [
    {
     "data": {
      "text/html": [
       "<div>\n",
       "<style scoped>\n",
       "    .dataframe tbody tr th:only-of-type {\n",
       "        vertical-align: middle;\n",
       "    }\n",
       "\n",
       "    .dataframe tbody tr th {\n",
       "        vertical-align: top;\n",
       "    }\n",
       "\n",
       "    .dataframe thead th {\n",
       "        text-align: right;\n",
       "    }\n",
       "</style>\n",
       "<table border=\"1\" class=\"dataframe\">\n",
       "  <thead>\n",
       "    <tr style=\"text-align: right;\">\n",
       "      <th></th>\n",
       "      <th>상호명</th>\n",
       "      <th>도로명주소</th>\n",
       "    </tr>\n",
       "  </thead>\n",
       "  <tbody>\n",
       "    <tr>\n",
       "      <th>0</th>\n",
       "      <td>하나산부인과</td>\n",
       "      <td>경기도 안산시 단원구 달미로 10</td>\n",
       "    </tr>\n",
       "    <tr>\n",
       "      <th>1</th>\n",
       "      <td>타워광명내과의원</td>\n",
       "      <td>서울특별시 강남구 언주로30길 39</td>\n",
       "    </tr>\n",
       "    <tr>\n",
       "      <th>2</th>\n",
       "      <td>조정현신경외과의원</td>\n",
       "      <td>경기도 시흥시 중심상가로 178</td>\n",
       "    </tr>\n",
       "    <tr>\n",
       "      <th>3</th>\n",
       "      <td>한귀원정신과의원</td>\n",
       "      <td>부산광역시 수영구 수영로 688</td>\n",
       "    </tr>\n",
       "    <tr>\n",
       "      <th>4</th>\n",
       "      <td>더블유스토어수지점</td>\n",
       "      <td>경기도 용인시 수지구 문정로 32</td>\n",
       "    </tr>\n",
       "  </tbody>\n",
       "</table>\n",
       "</div>"
      ],
      "text/plain": [
       "         상호명                도로명주소\n",
       "0     하나산부인과   경기도 안산시 단원구 달미로 10\n",
       "1   타워광명내과의원  서울특별시 강남구 언주로30길 39\n",
       "2  조정현신경외과의원    경기도 시흥시 중심상가로 178\n",
       "3   한귀원정신과의원    부산광역시 수영구 수영로 688\n",
       "4  더블유스토어수지점   경기도 용인시 수지구 문정로 32"
      ]
     },
     "execution_count": 6,
     "metadata": {},
     "output_type": "execute_result"
    }
   ],
   "source": [
    "\n",
    "#### 다른데이터를 가지고와서 주소에 위경도 정보 넣어보기 !!!!!!!!!!!!!!!!!!!!!!\n",
    "\n",
    "df=pd.read_csv('https://raw.githubusercontent.com/pia222sk20/python/main/data/sample.csv', encoding='cp949')\n",
    "df.head()\n",
    "# df_simple = df[['상호명', '도로명주소']]\n",
    "# df_simple.head()\n",
    "\n",
    "df_simple = df.loc[:, ['상호명', '도로명주소']]\n",
    "df_simple.head()"
   ]
  },
  {
   "cell_type": "code",
   "execution_count": 19,
   "metadata": {},
   "outputs": [
    {
     "data": {
      "text/plain": [
       "RangeIndex(start=0, stop=91335, step=1)"
      ]
     },
     "execution_count": 19,
     "metadata": {},
     "output_type": "execute_result"
    }
   ],
   "source": [
    "# 위도 경도 추가\n",
    "# df_simple['위경도']=df_simple['도로명주소'].apply(lambda x: get_geocoding(x))\n",
    "df_simple['도로명주소'].index"
   ]
  },
  {
   "cell_type": "code",
   "execution_count": null,
   "metadata": {},
   "outputs": [],
   "source": [
    "import random\n",
    "random_index = random.sample(range(91335), 50)\n",
    "random_index"
   ]
  },
  {
   "cell_type": "code",
   "execution_count": 31,
   "metadata": {},
   "outputs": [],
   "source": [
    "df_simple = df_simple.dropna()  #데이터 중에서 none 또는 NaN 없는 데이터 row를 삭제"
   ]
  },
  {
   "cell_type": "code",
   "execution_count": 11,
   "metadata": {},
   "outputs": [
    {
     "data": {
      "text/plain": [
       "[('37.346721724282', '126.732054712782'),\n",
       " ('34.7253990069815', '126.568008908384'),\n",
       " ('34.9483071964703', '127.521086536948'),\n",
       " ('36.3126899557356', '127.380308327292'),\n",
       " ('35.573927541891', '126.845512256934'),\n",
       " ('37.5051960660157', '127.025700266315'),\n",
       " ('35.7261060655733', '126.732004368793'),\n",
       " ('36.2989299146086', '127.319923688063'),\n",
       " ('35.8546940785106', '128.653349624526'),\n",
       " ('37.5886845716947', '127.236716768527')]"
      ]
     },
     "execution_count": 11,
     "metadata": {},
     "output_type": "execute_result"
    }
   ],
   "source": [
    "df_simple_50 = df_simple.iloc[random_index]\n",
    "results = [get_geocoding(addr) for addr in df_simple_50['도로명주소'].values]\n",
    "results [:10]"
   ]
  },
  {
   "cell_type": "code",
   "execution_count": null,
   "metadata": {},
   "outputs": [],
   "source": [
    "df_simple_50.loc[:, '위도'], df_simple_50.loc[:, '경도'] = zip(*results)\n",
    " #zip(*) : 상기 (위도, 경도)를  위도 [] 경도[] 끼리 unpack."
   ]
  },
  {
   "cell_type": "code",
   "execution_count": 18,
   "metadata": {},
   "outputs": [
    {
     "data": {
      "text/html": [
       "<div>\n",
       "<style scoped>\n",
       "    .dataframe tbody tr th:only-of-type {\n",
       "        vertical-align: middle;\n",
       "    }\n",
       "\n",
       "    .dataframe tbody tr th {\n",
       "        vertical-align: top;\n",
       "    }\n",
       "\n",
       "    .dataframe thead th {\n",
       "        text-align: right;\n",
       "    }\n",
       "</style>\n",
       "<table border=\"1\" class=\"dataframe\">\n",
       "  <thead>\n",
       "    <tr style=\"text-align: right;\">\n",
       "      <th></th>\n",
       "      <th>상호명</th>\n",
       "      <th>도로명주소</th>\n",
       "      <th>위도</th>\n",
       "      <th>경도</th>\n",
       "    </tr>\n",
       "  </thead>\n",
       "  <tbody>\n",
       "    <tr>\n",
       "      <th>24825</th>\n",
       "      <td>서해동물병원</td>\n",
       "      <td>경기도 시흥시 중심상가로 146</td>\n",
       "      <td>37.346721724282</td>\n",
       "      <td>126.732054712782</td>\n",
       "    </tr>\n",
       "    <tr>\n",
       "      <th>22591</th>\n",
       "      <td>독일약국</td>\n",
       "      <td>전라남도 영암군 학산면 독천로 171-1</td>\n",
       "      <td>34.7253990069815</td>\n",
       "      <td>126.568008908384</td>\n",
       "    </tr>\n",
       "    <tr>\n",
       "      <th>10984</th>\n",
       "      <td>제일신통의원</td>\n",
       "      <td>전라남도 순천시 연향2로 55</td>\n",
       "      <td>34.9483071964703</td>\n",
       "      <td>127.521086536948</td>\n",
       "    </tr>\n",
       "    <tr>\n",
       "      <th>32082</th>\n",
       "      <td>김영유소아과의원</td>\n",
       "      <td>대전광역시 서구 도산로 45</td>\n",
       "      <td>36.3126899557356</td>\n",
       "      <td>127.380308327292</td>\n",
       "    </tr>\n",
       "    <tr>\n",
       "      <th>75901</th>\n",
       "      <td>우리들정형외과의원</td>\n",
       "      <td>전라북도 정읍시 중앙로 23</td>\n",
       "      <td>35.573927541891</td>\n",
       "      <td>126.845512256934</td>\n",
       "    </tr>\n",
       "  </tbody>\n",
       "</table>\n",
       "</div>"
      ],
      "text/plain": [
       "             상호명                   도로명주소                위도                경도\n",
       "24825     서해동물병원       경기도 시흥시 중심상가로 146   37.346721724282  126.732054712782\n",
       "22591       독일약국  전라남도 영암군 학산면 독천로 171-1  34.7253990069815  126.568008908384\n",
       "10984     제일신통의원        전라남도 순천시 연향2로 55  34.9483071964703  127.521086536948\n",
       "32082   김영유소아과의원         대전광역시 서구 도산로 45  36.3126899557356  127.380308327292\n",
       "75901  우리들정형외과의원         전라북도 정읍시 중앙로 23   35.573927541891  126.845512256934"
      ]
     },
     "execution_count": 18,
     "metadata": {},
     "output_type": "execute_result"
    }
   ],
   "source": [
    "df_simple_50.head()"
   ]
  },
  {
   "cell_type": "code",
   "execution_count": null,
   "metadata": {},
   "outputs": [],
   "source": [
    "# 상기 데이터를 지도에 표시하기 \n",
    "%pip install folium\n",
    "\n",
    "# https://python-visualization.github.io/folium/latest/"
   ]
  },
  {
   "cell_type": "code",
   "execution_count": null,
   "metadata": {},
   "outputs": [],
   "source": [
    "import folium\n",
    "\n",
    "m = folium.Map(location=(35.573927541891, 126.845512256934))  #최초지도 로드할 때, 중심좌표\n",
    "\n",
    "folium.Marker(\n",
    "    location=[35.573927541891, 126.845512256934],\n",
    "    popup='우리들정형외과의원',\n",
    "    tooltip='병원'\n",
    ").add_to(m)\n",
    "\n",
    "folium.Marker(\n",
    "    location=[36.3126899557356, 127.380308327292],\n",
    "    popup='김영유소아과의원',\n",
    "    tooltip='병원'\n",
    ").add_to(m)\n",
    "\n",
    "\n",
    "m.save('map.html')   #html로 저장"
   ]
  },
  {
   "cell_type": "code",
   "execution_count": 28,
   "metadata": {},
   "outputs": [
    {
     "name": "stdout",
     "output_type": "stream",
     "text": [
      "상호명\n",
      "도로명주소\n",
      "위도\n",
      "경도\n"
     ]
    }
   ],
   "source": [
    "for i in df_simple_50:\n",
    "    print(i)    "
   ]
  },
  {
   "cell_type": "code",
   "execution_count": 29,
   "metadata": {},
   "outputs": [
    {
     "name": "stdout",
     "output_type": "stream",
     "text": [
      "24825 37.346721724282 126.732054712782\n"
     ]
    }
   ],
   "source": [
    "for idx, row in df_simple_50.iterrows():\n",
    "    print(idx, row['위도'], row['경도'])\n",
    "    break"
   ]
  },
  {
   "cell_type": "code",
   "execution_count": 30,
   "metadata": {},
   "outputs": [],
   "source": [
    "import folium\n",
    "\n",
    "m_all = folium.Map(location=(35.573927541891, 126.845512256934))  #최초지도 로드할 때, 중심좌표\n",
    "\n",
    "\n",
    "for idx, row in df_simple_50.iterrows():   #iterrows 진짜 row를 가져옴\n",
    "    # print (idx, row['위도'], row['경도'])\n",
    "    \n",
    "    folium.Marker(\n",
    "        location=[row['위도'], row['경도']],\n",
    "        popup=row['상호명'],\n",
    "        tooltip=row['상호명'][-2:]\n",
    "    ).add_to(m_all)\n",
    "\n",
    "m_all.save('m_all.html')"
   ]
  }
 ],
 "metadata": {
  "colab": {
   "authorship_tag": "ABX9TyMmPDgPDlEQ9VJpxhthoipr",
   "provenance": []
  },
  "kernelspec": {
   "display_name": "streamlit_prj",
   "language": "python",
   "name": "python3"
  },
  "language_info": {
   "codemirror_mode": {
    "name": "ipython",
    "version": 3
   },
   "file_extension": ".py",
   "mimetype": "text/x-python",
   "name": "python",
   "nbconvert_exporter": "python",
   "pygments_lexer": "ipython3",
   "version": "3.13.7"
  }
 },
 "nbformat": 4,
 "nbformat_minor": 4
}
