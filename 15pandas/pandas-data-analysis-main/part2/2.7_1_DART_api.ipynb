{
 "cells": [
  {
   "cell_type": "markdown",
   "metadata": {},
   "source": [
    "금융감독원 OPEN DART"
   ]
  },
  {
   "cell_type": "code",
   "execution_count": 2,
   "metadata": {},
   "outputs": [],
   "source": [
    "#DART\n",
    "#Open dart : https://opendart.fss.or.kr/\n",
    "#인증키신청 \n",
    "#개발가이드 > 공시정보"
   ]
  },
  {
   "cell_type": "code",
   "execution_count": 20,
   "metadata": {},
   "outputs": [
    {
     "name": "stdout",
     "output_type": "stream",
     "text": [
      "{'status': '000', 'message': '정상', 'page_no': 1, 'page_count': 100, 'total_count': 139, 'total_page': 2, 'list': [{'corp_code': '00356370', 'corp_name': 'LG생활건강', 'stock_code': '051900', 'corp_cls': 'Y', 'report_nm': '주주명부폐쇄기간또는기준일설정              ', 'rcept_no': '20250929800174', 'flr_nm': 'LG생활건강', 'rcept_dt': '20250929', 'rm': '유'}, {'corp_code': '00356370', 'corp_name': 'LG생활건강', 'stock_code': '051900', 'corp_cls': 'Y', 'report_nm': '주주총회소집결의              ', 'rcept_no': '20250929800170', 'flr_nm': 'LG생활건강', 'rcept_dt': '20250929', 'rm': '유'}, {'corp_code': '00492894', 'corp_name': '젬백스', 'stock_code': '082270', 'corp_cls': 'K', 'report_nm': '[기재정정]주요사항보고서(유상증자결정)', 'rcept_no': '20250929000118', 'flr_nm': '젬백스', 'rcept_dt': '20250929', 'rm': ''}, {'corp_code': '01700587', 'corp_name': '이노스페이스', 'stock_code': '462350', 'corp_cls': 'K', 'report_nm': '전환주식의전환가액조정              (전환우선주)', 'rcept_no': '20250929900167', 'flr_nm': '이노스페이스', 'rcept_dt': '20250929', 'rm': '코'}, {'corp_code': '01139035', 'corp_name': '티에스아이', 'stock_code': '277880', 'corp_cls': 'K', 'report_nm': '자기주식취득결과보고서', 'rcept_no': '20250929000116', 'flr_nm': '티에스아이', 'rcept_dt': '20250929', 'rm': ''}, {'corp_code': '00654175', 'corp_name': '피엠티', 'stock_code': '147760', 'corp_cls': 'K', 'report_nm': '임원ㆍ주요주주특정증권등거래계획보고서', 'rcept_no': '20250929000115', 'flr_nm': '프로텍', 'rcept_dt': '20250929', 'rm': ''}, {'corp_code': '01335453', 'corp_name': '오하임앤컴퍼니', 'stock_code': '309930', 'corp_cls': 'K', 'report_nm': '상호변경안내              ', 'rcept_no': '20250929900165', 'flr_nm': '오하임앤컴퍼니', 'rcept_dt': '20250929', 'rm': '코'}, {'corp_code': '01335453', 'corp_name': '오하임앤컴퍼니', 'stock_code': '309930', 'corp_cls': 'K', 'report_nm': '임시주주총회결과              ', 'rcept_no': '20250929900164', 'flr_nm': '오하임앤컴퍼니', 'rcept_dt': '20250929', 'rm': '코'}, {'corp_code': '01611441', 'corp_name': '디디아이오에스108위탁관리부동산투자회사', 'stock_code': '', 'corp_cls': 'E', 'report_nm': '감사보고서 (2025.06)', 'rcept_no': '20250929000113', 'flr_nm': '윤성회계법인', 'rcept_dt': '20250929', 'rm': ''}, {'corp_code': '00385363', 'corp_name': '빅텍', 'stock_code': '065450', 'corp_cls': 'K', 'report_nm': '[기재정정]단일판매ㆍ공급계약체결              ', 'rcept_no': '20250929900161', 'flr_nm': '빅텍', 'rcept_dt': '20250929', 'rm': '코'}, {'corp_code': '00136925', 'corp_name': '신원종합개발', 'stock_code': '017000', 'corp_cls': 'K', 'report_nm': '주식등의대량보유상황보고서(약식)', 'rcept_no': '20250929000111', 'flr_nm': '김승현', 'rcept_dt': '20250929', 'rm': ''}, {'corp_code': '01509410', 'corp_name': '이즈비어패럴', 'stock_code': '', 'corp_cls': 'E', 'report_nm': '감사보고서 (2025.06)', 'rcept_no': '20250929000110', 'flr_nm': '신현회계법인', 'rcept_dt': '20250929', 'rm': ''}, {'corp_code': '01703946', 'corp_name': '서울아레나', 'stock_code': '', 'corp_cls': 'E', 'report_nm': '비유동자산취득결정', 'rcept_no': '20250929000109', 'flr_nm': '서울아레나', 'rcept_dt': '20250929', 'rm': '공'}, {'corp_code': '01629495', 'corp_name': '세아베스틸', 'stock_code': '', 'corp_cls': 'E', 'report_nm': '동일인등출자계열회사와의상품ㆍ용역거래', 'rcept_no': '20250929000107', 'flr_nm': '세아베스틸', 'rcept_dt': '20250929', 'rm': '공'}, {'corp_code': '00122348', 'corp_name': '방림', 'stock_code': '003610', 'corp_cls': 'Y', 'report_nm': '임원ㆍ주요주주특정증권등소유상황보고서', 'rcept_no': '20250929000106', 'flr_nm': '우지원', 'rcept_dt': '20250929', 'rm': ''}, {'corp_code': '00164609', 'corp_name': 'HD현대미포', 'stock_code': '010620', 'corp_cls': 'Y', 'report_nm': '단일판매ㆍ공급계약체결(자율공시)              ', 'rcept_no': '20250929800153', 'flr_nm': 'HD현대미포', 'rcept_dt': '20250929', 'rm': '유'}, {'corp_code': '01949487', 'corp_name': '도이치파이낸셜오토제칠차유동화전문유한회사', 'stock_code': '', 'corp_cls': 'E', 'report_nm': '투자설명서', 'rcept_no': '20250929000105', 'flr_nm': '도이치파이낸셜오토제칠차유동화전문유한회사', 'rcept_dt': '20250929', 'rm': ''}, {'corp_code': '01270749', 'corp_name': '웨이비스', 'stock_code': '289930', 'corp_cls': 'K', 'report_nm': '[기재정정]단일판매ㆍ공급계약체결              ', 'rcept_no': '20250929900149', 'flr_nm': '웨이비스', 'rcept_dt': '20250929', 'rm': '코'}, {'corp_code': '00164609', 'corp_name': 'HD현대미포', 'stock_code': '010620', 'corp_cls': 'Y', 'report_nm': '단일판매ㆍ공급계약체결              ', 'rcept_no': '20250929800146', 'flr_nm': 'HD현대미포', 'rcept_dt': '20250929', 'rm': '유'}, {'corp_code': '00110918', 'corp_name': '대신자산운용', 'stock_code': '', 'corp_cls': 'E', 'report_nm': '투자설명서(집합투자증권)(대신국채분할매매&고배당주30목표전환형증권투자신탁[채권혼합](운용전환일이후)대신국채분할매매&고배당주30목표전환형증권투자신탁[채권])', 'rcept_no': '20250929000030', 'flr_nm': '대신자산운용', 'rcept_dt': '20250929', 'rm': ''}, {'corp_code': '00969651', 'corp_name': '청암', 'stock_code': '', 'corp_cls': 'E', 'report_nm': '동일인등출자계열회사와의상품ㆍ용역거래', 'rcept_no': '20250929000104', 'flr_nm': '청암', 'rcept_dt': '20250929', 'rm': '공'}, {'corp_code': '00992543', 'corp_name': 'LK삼양', 'stock_code': '225190', 'corp_cls': 'K', 'report_nm': '[기재정정]주요사항보고서(유상증자결정)', 'rcept_no': '20250929000090', 'flr_nm': 'LK삼양', 'rcept_dt': '20250929', 'rm': ''}, {'corp_code': '00100601', 'corp_name': '강원에너지', 'stock_code': '114190', 'corp_cls': 'K', 'report_nm': '[기재정정]단일판매ㆍ공급계약체결              ', 'rcept_no': '20250929900137', 'flr_nm': '강원에너지', 'rcept_dt': '20250929', 'rm': '코'}, {'corp_code': '01484111', 'corp_name': '에이치에프디공이유동화전문유한회사', 'stock_code': '', 'corp_cls': 'E', 'report_nm': '자산유동화관련중요사항발생등보고서(기타)', 'rcept_no': '20250929000098', 'flr_nm': '에이치에프디공이유동화전문유한회사', 'rcept_dt': '20250929', 'rm': ''}, {'corp_code': '00245375', 'corp_name': '디비월드', 'stock_code': '', 'corp_cls': 'E', 'report_nm': '동일인등출자계열회사와의상품ㆍ용역거래', 'rcept_no': '20250929000096', 'flr_nm': '디비월드', 'rcept_dt': '20250929', 'rm': '공'}, {'corp_code': '01396931', 'corp_name': '유엑스엔', 'stock_code': '337840', 'corp_cls': 'N', 'report_nm': '특허권취득(자율공시)              (함몰부를 가지는 트랜스미터가 구비된 연속식 분석물 측정기)', 'rcept_no': '20250929600133', 'flr_nm': '유엑스엔', 'rcept_dt': '20250929', 'rm': '넥'}, {'corp_code': '00611736', 'corp_name': '엑시콘', 'stock_code': '092870', 'corp_cls': 'K', 'report_nm': '단일판매ㆍ공급계약체결              ', 'rcept_no': '20250929900126', 'flr_nm': '엑시콘', 'rcept_dt': '20250929', 'rm': '코'}, {'corp_code': '00113359', 'corp_name': '교보증권', 'stock_code': '030610', 'corp_cls': 'Y', 'report_nm': '일괄신고추가서류(파생결합사채-주가연계파생결합사채)', 'rcept_no': '20250929000095', 'flr_nm': '교보증권', 'rcept_dt': '20250929', 'rm': ''}, {'corp_code': '00992543', 'corp_name': 'LK삼양', 'stock_code': '225190', 'corp_cls': 'K', 'report_nm': '[기재정정]투자설명서', 'rcept_no': '20250929000093', 'flr_nm': 'LK삼양', 'rcept_dt': '20250929', 'rm': ''}, {'corp_code': '00992543', 'corp_name': 'LK삼양', 'stock_code': '225190', 'corp_cls': 'K', 'report_nm': '[발행조건확정]증권신고서(지분증권)', 'rcept_no': '20250929000092', 'flr_nm': 'LK삼양', 'rcept_dt': '20250929', 'rm': ''}, {'corp_code': '00138321', 'corp_name': '신한투자증권', 'stock_code': '008670', 'corp_cls': 'E', 'report_nm': '증권발행실적보고서', 'rcept_no': '20250929000089', 'flr_nm': '신한투자증권', 'rcept_dt': '20250929', 'rm': ''}, {'corp_code': '01485943', 'corp_name': '유아이제이십칠차유동화전문유한회사', 'stock_code': '', 'corp_cls': 'E', 'report_nm': '자산유동화관련중요사항발생등보고서(해산)', 'rcept_no': '20250929000088', 'flr_nm': '유아이제이십칠차유동화전문유한회사', 'rcept_dt': '20250929', 'rm': ''}, {'corp_code': '00441243', 'corp_name': '형지엘리트', 'stock_code': '093240', 'corp_cls': 'Y', 'report_nm': '정기주주총회결과              ', 'rcept_no': '20250929800130', 'flr_nm': '형지엘리트', 'rcept_dt': '20250929', 'rm': '유'}, {'corp_code': '01631807', 'corp_name': '글로벌콜드체인', 'stock_code': '', 'corp_cls': 'E', 'report_nm': '감사보고서 (2024.12)', 'rcept_no': '20250929000087', 'flr_nm': '회계법인공명', 'rcept_dt': '20250929', 'rm': ''}, {'corp_code': '00992543', 'corp_name': 'LK삼양', 'stock_code': '225190', 'corp_cls': 'K', 'report_nm': '유상증자1차발행가액결정              ', 'rcept_no': '20250929900132', 'flr_nm': 'LK삼양', 'rcept_dt': '20250929', 'rm': '코'}, {'corp_code': '01680928', 'corp_name': '아라디엔씨', 'stock_code': '', 'corp_cls': 'E', 'report_nm': '감사보고서 (2024.12)', 'rcept_no': '20250929000086', 'flr_nm': '한울회계법인', 'rcept_dt': '20250929', 'rm': ''}, {'corp_code': '01666520', 'corp_name': '에스케이플러그하이버스', 'stock_code': '', 'corp_cls': 'E', 'report_nm': '동일인등출자계열회사와의상품ㆍ용역거래', 'rcept_no': '20250929000085', 'flr_nm': '에스케이플러그하이버스', 'rcept_dt': '20250929', 'rm': '공'}, {'corp_code': '00683283', 'corp_name': 'LS전선', 'stock_code': '', 'corp_cls': 'E', 'report_nm': '동일인등출자계열회사와의상품ㆍ용역거래변경', 'rcept_no': '20250929000084', 'flr_nm': 'LS전선', 'rcept_dt': '20250929', 'rm': '공'}, {'corp_code': '00111722', 'corp_name': '미래에셋증권', 'stock_code': '006800', 'corp_cls': 'Y', 'report_nm': '증권발행실적보고서', 'rcept_no': '20250929000083', 'flr_nm': '미래에셋증권', 'rcept_dt': '20250929', 'rm': ''}, {'corp_code': '01485934', 'corp_name': '유지제이차유동화전문유한회사', 'stock_code': '', 'corp_cls': 'E', 'report_nm': '자산유동화관련중요사항발생등보고서(해산)', 'rcept_no': '20250929000082', 'flr_nm': '유지제이차유동화전문유한회사', 'rcept_dt': '20250929', 'rm': ''}, {'corp_code': '00131054', 'corp_name': '유진증권', 'stock_code': '001200', 'corp_cls': 'Y', 'report_nm': '일괄신고추가서류(파생결합사채-주가연계파생결합사채)', 'rcept_no': '20250929000081', 'flr_nm': '유진증권', 'rcept_dt': '20250929', 'rm': ''}, {'corp_code': '00160144', 'corp_name': '한국투자증권', 'stock_code': '', 'corp_cls': 'E', 'report_nm': '일괄신고추가서류(파생결합사채-주가연계파생결합사채)', 'rcept_no': '20250929000080', 'flr_nm': '한국투자증권', 'rcept_dt': '20250929', 'rm': ''}, {'corp_code': '00683283', 'corp_name': 'LS전선', 'stock_code': '', 'corp_cls': 'E', 'report_nm': '동일인등출자계열회사와의상품ㆍ용역거래변경', 'rcept_no': '20250929000079', 'flr_nm': 'LS전선', 'rcept_dt': '20250929', 'rm': '공'}, {'corp_code': '01342842', 'corp_name': '유앤에스제삼차유동화전문유한회사', 'stock_code': '', 'corp_cls': 'E', 'report_nm': '자산유동화관련중요사항발생등보고서(해산)', 'rcept_no': '20250929000078', 'flr_nm': '유앤에스제삼차유동화전문유한회사', 'rcept_dt': '20250929', 'rm': ''}, {'corp_code': '00162063', 'corp_name': '한신공영', 'stock_code': '004960', 'corp_cls': 'Y', 'report_nm': '투자판단관련주요경영사항              ', 'rcept_no': '20250929800107', 'flr_nm': '한신공영', 'rcept_dt': '20250929', 'rm': '유'}, {'corp_code': '00112907', 'corp_name': '코원에너지서비스', 'stock_code': '026870', 'corp_cls': 'E', 'report_nm': '동일인등출자계열회사와의상품ㆍ용역거래', 'rcept_no': '20250929000076', 'flr_nm': '코원에너지서비스', 'rcept_dt': '20250929', 'rm': '공'}, {'corp_code': '01654899', 'corp_name': '고흥에너지', 'stock_code': '', 'corp_cls': 'E', 'report_nm': '[기재정정]특수관계인으로부터자금차입', 'rcept_no': '20250929000075', 'flr_nm': '고흥에너지', 'rcept_dt': '20250929', 'rm': '공'}, {'corp_code': '00858124', 'corp_name': '알에스오토메이션', 'stock_code': '140670', 'corp_cls': 'K', 'report_nm': '[기재정정]주요사항보고서(유상증자결정)', 'rcept_no': '20250929000062', 'flr_nm': '알에스오토메이션', 'rcept_dt': '20250929', 'rm': ''}, {'corp_code': '01325739', 'corp_name': '아이에이제칠차유동화전문유한회사', 'stock_code': '', 'corp_cls': 'E', 'report_nm': '자산유동화관련중요사항발생등보고서(해산)', 'rcept_no': '20250929000074', 'flr_nm': '아이에이제칠차유동화전문유한회사', 'rcept_dt': '20250929', 'rm': ''}, {'corp_code': '00138747', 'corp_name': '아세아텍', 'stock_code': '050860', 'corp_cls': 'K', 'report_nm': '정기주주총회결과              ', 'rcept_no': '20250929900103', 'flr_nm': '아세아텍', 'rcept_dt': '20250929', 'rm': '코'}, {'corp_code': '01687897', 'corp_name': '디벨럽팩토리', 'stock_code': '', 'corp_cls': 'E', 'report_nm': '감사보고서 (2024.12)', 'rcept_no': '20250929000072', 'flr_nm': '가가공인회계사감사반(제24호)', 'rcept_dt': '20250929', 'rm': ''}, {'corp_code': '01292608', 'corp_name': '유진아이티서비스', 'stock_code': '', 'corp_cls': 'E', 'report_nm': '동일인등출자계열회사와의상품ㆍ용역거래', 'rcept_no': '20250929000070', 'flr_nm': '유진아이티서비스', 'rcept_dt': '20250929', 'rm': '공'}, {'corp_code': '00858124', 'corp_name': '알에스오토메이션', 'stock_code': '140670', 'corp_cls': 'K', 'report_nm': '유상증자1차발행가액결정              ', 'rcept_no': '20250929900111', 'flr_nm': '알에스오토메이션', 'rcept_dt': '20250929', 'rm': '코'}, {'corp_code': '00907536', 'corp_name': '넷마블엔투', 'stock_code': '', 'corp_cls': 'E', 'report_nm': '동일인등출자계열회사와의상품ㆍ용역거래', 'rcept_no': '20250929000067', 'flr_nm': '넷마블엔투', 'rcept_dt': '20250929', 'rm': '공'}, {'corp_code': '01237027', 'corp_name': '유에이치제오차유동화전문유한회사', 'stock_code': '', 'corp_cls': 'E', 'report_nm': '자산유동화관련중요사항발생등보고서(해산)', 'rcept_no': '20250929000065', 'flr_nm': '유에이치제오차유동화전문유한회사', 'rcept_dt': '20250929', 'rm': ''}, {'corp_code': '00111722', 'corp_name': '미래에셋증권', 'stock_code': '006800', 'corp_cls': 'Y', 'report_nm': '증권발행실적보고서', 'rcept_no': '20250929000063', 'flr_nm': '미래에셋증권', 'rcept_dt': '20250929', 'rm': ''}, {'corp_code': '01237054', 'corp_name': '유아이제십칠차유동화전문유한회사', 'stock_code': '', 'corp_cls': 'E', 'report_nm': '자산유동화관련중요사항발생등보고서(해산)', 'rcept_no': '20250929000061', 'flr_nm': '유아이제십칠차유동화전문유한회사', 'rcept_dt': '20250929', 'rm': ''}, {'corp_code': '00840967', 'corp_name': '레이저텍코리아', 'stock_code': '', 'corp_cls': 'E', 'report_nm': '감사보고서 (2025.06)', 'rcept_no': '20250929000060', 'flr_nm': '삼일회계법인', 'rcept_dt': '20250929', 'rm': ''}, {'corp_code': '01187555', 'corp_name': '유에스제팔차유동화전문유한회사', 'stock_code': '', 'corp_cls': 'E', 'report_nm': '자산유동화관련중요사항발생등보고서(해산)', 'rcept_no': '20250929000059', 'flr_nm': '유에스제팔차유동화전문유한회사', 'rcept_dt': '20250929', 'rm': ''}, {'corp_code': '00133812', 'corp_name': '세방', 'stock_code': '004360', 'corp_cls': 'Y', 'report_nm': '[기재정정]기업지배구조보고서공시              ', 'rcept_no': '20250929800101', 'flr_nm': '세방', 'rcept_dt': '20250929', 'rm': '유'}, {'corp_code': '00129420', 'corp_name': '까뮤이앤씨', 'stock_code': '013700', 'corp_cls': 'Y', 'report_nm': '[기재정정]단일판매ㆍ공급계약체결              ', 'rcept_no': '20250929800093', 'flr_nm': '까뮤이앤씨', 'rcept_dt': '20250929', 'rm': '유'}, {'corp_code': '01390344', 'corp_name': 'HD현대중공업', 'stock_code': '329180', 'corp_cls': 'Y', 'report_nm': '투자설명서', 'rcept_no': '20250929000057', 'flr_nm': 'HD현대중공업', 'rcept_dt': '20250929', 'rm': ''}, {'corp_code': '00296290', 'corp_name': '키움증권', 'stock_code': '039490', 'corp_cls': 'Y', 'report_nm': '증권발행실적보고서', 'rcept_no': '20250929000056', 'flr_nm': '키움증권', 'rcept_dt': '20250929', 'rm': ''}, {'corp_code': '01187810', 'corp_name': '아이에이제일차유동화전문유한회사', 'stock_code': '', 'corp_cls': 'E', 'report_nm': '자산유동화관련중요사항발생등보고서(해산)', 'rcept_no': '20250929000055', 'flr_nm': '아이에이제일차유동화전문유한회사', 'rcept_dt': '20250929', 'rm': ''}, {'corp_code': '01113523', 'corp_name': '타임워크웨스트기업구조조정부동산투자회사', 'stock_code': '', 'corp_cls': 'E', 'report_nm': '감사보고서 (2025.06)', 'rcept_no': '20250929000054', 'flr_nm': '삼도회계법인', 'rcept_dt': '20250929', 'rm': ''}, {'corp_code': '01112278', 'corp_name': '유케이제오차유동화전문유한회사', 'stock_code': '', 'corp_cls': 'E', 'report_nm': '자산유동화관련중요사항발생등보고서(해산)', 'rcept_no': '20250929000053', 'flr_nm': '유케이제오차유동화전문유한회사', 'rcept_dt': '20250929', 'rm': ''}, {'corp_code': '01765858', 'corp_name': '유에스제십이차유동화전문유한회사', 'stock_code': '', 'corp_cls': 'E', 'report_nm': '자산유동화관련중요사항발생등보고서(해산)', 'rcept_no': '20250929000052', 'flr_nm': '유에스제십이차유동화전문유한회사', 'rcept_dt': '20250929', 'rm': ''}, {'corp_code': '00908784', 'corp_name': '유앤제사차유동화전문유한회사', 'stock_code': '', 'corp_cls': 'E', 'report_nm': '자산유동화관련중요사항발생등보고서(해산)', 'rcept_no': '20250929000050', 'flr_nm': '유앤제사차유동화전문유한회사', 'rcept_dt': '20250929', 'rm': ''}, {'corp_code': '01105816', 'corp_name': '여수그린에너지', 'stock_code': '', 'corp_cls': 'E', 'report_nm': '특수관계인으로부터자금차입', 'rcept_no': '20250929000049', 'flr_nm': '여수그린에너지', 'rcept_dt': '20250929', 'rm': '공'}, {'corp_code': '01454776', 'corp_name': '서앤파트너스', 'stock_code': '', 'corp_cls': 'E', 'report_nm': '특수관계인으로부터자금차입', 'rcept_no': '20250929000048', 'flr_nm': '서앤파트너스', 'rcept_dt': '20250929', 'rm': '공'}, {'corp_code': '01599723', 'corp_name': '엔이에스머티리얼즈', 'stock_code': '', 'corp_cls': 'E', 'report_nm': '약관에의한금융거래시계열금융회사의거래상대방의공시', 'rcept_no': '20250929000047', 'flr_nm': '엔이에스머티리얼즈', 'rcept_dt': '20250929', 'rm': '공'}, {'corp_code': '01596160', 'corp_name': '큐브반포제이차유동화전문유한회사', 'stock_code': '', 'corp_cls': 'E', 'report_nm': '반기보고서(유동화전문회사) (2025.06)', 'rcept_no': '20250929000046', 'flr_nm': '큐브반포제이차유동화전문유한회사', 'rcept_dt': '20250929', 'rm': ''}, {'corp_code': '00113359', 'corp_name': '교보증권', 'stock_code': '030610', 'corp_cls': 'Y', 'report_nm': '증권발행실적보고서', 'rcept_no': '20250929000044', 'flr_nm': '교보증권', 'rcept_dt': '20250929', 'rm': ''}, {'corp_code': '00173263', 'corp_name': '삼성공업', 'stock_code': '', 'corp_cls': 'E', 'report_nm': '연결감사보고서 (2025.05)', 'rcept_no': '20250929000043', 'flr_nm': '대성회계법인', 'rcept_dt': '20250929', 'rm': ''}, {'corp_code': '00897284', 'corp_name': '유에스제육차유동화전문유한회사', 'stock_code': '', 'corp_cls': 'E', 'report_nm': '자산유동화관련중요사항발생등보고서(해산)', 'rcept_no': '20250929000042', 'flr_nm': '유에스제육차유동화전문유한회사', 'rcept_dt': '20250929', 'rm': ''}, {'corp_code': '00153393', 'corp_name': '태광산업', 'stock_code': '003240', 'corp_cls': 'Y', 'report_nm': '[기재정정]장래사업ㆍ경영계획(공정공시)              ', 'rcept_no': '20250929800071', 'flr_nm': '태광산업', 'rcept_dt': '20250929', 'rm': '유'}, {'corp_code': '01461077', 'corp_name': '에스케이머티리얼즈퍼포먼스', 'stock_code': '', 'corp_cls': 'E', 'report_nm': '비유동자산취득결정', 'rcept_no': '20250929000037', 'flr_nm': '에스케이머티리얼즈퍼포먼스', 'rcept_dt': '20250929', 'rm': '공'}, {'corp_code': '00153393', 'corp_name': '태광산업', 'stock_code': '003240', 'corp_cls': 'Y', 'report_nm': '기업설명회(IR)개최(안내공시)              ', 'rcept_no': '20250929800068', 'flr_nm': '태광산업', 'rcept_dt': '20250929', 'rm': '유'}, {'corp_code': '00173263', 'corp_name': '삼성공업', 'stock_code': '', 'corp_cls': 'E', 'report_nm': '감사보고서 (2025.05)', 'rcept_no': '20250929000034', 'flr_nm': '대성회계법인', 'rcept_dt': '20250929', 'rm': ''}, {'corp_code': '01820155', 'corp_name': '리뉴로지스인더', 'stock_code': '', 'corp_cls': 'E', 'report_nm': '동일인등출자계열회사와의상품ㆍ용역거래', 'rcept_no': '20250929000033', 'flr_nm': '리뉴로지스인더', 'rcept_dt': '20250929', 'rm': '공'}, {'corp_code': '01672220', 'corp_name': '케이원제19호위탁관리부동산투자회사', 'stock_code': '', 'corp_cls': 'E', 'report_nm': '감사보고서 (2025.06)', 'rcept_no': '20250929000032', 'flr_nm': '삼화회계법인', 'rcept_dt': '20250929', 'rm': ''}, {'corp_code': '01436257', 'corp_name': '휘닉스평창', 'stock_code': '', 'corp_cls': 'E', 'report_nm': '동일인등출자계열회사와의상품ㆍ용역거래', 'rcept_no': '20250929000031', 'flr_nm': '휘닉스평창', 'rcept_dt': '20250929', 'rm': '공'}, {'corp_code': '00113359', 'corp_name': '교보증권', 'stock_code': '030610', 'corp_cls': 'Y', 'report_nm': '투자설명서(일괄신고)', 'rcept_no': '20250929000029', 'flr_nm': '교보증권', 'rcept_dt': '20250929', 'rm': ''}, {'corp_code': '00113359', 'corp_name': '교보증권', 'stock_code': '030610', 'corp_cls': 'Y', 'report_nm': '투자설명서(일괄신고)', 'rcept_no': '20250929000028', 'flr_nm': '교보증권', 'rcept_dt': '20250929', 'rm': ''}, {'corp_code': '00956028', 'corp_name': '엑세스바이오', 'stock_code': '950130', 'corp_cls': 'K', 'report_nm': '주식소각결정              ', 'rcept_no': '20250929900056', 'flr_nm': '엑세스바이오', 'rcept_dt': '20250929', 'rm': '코'}, {'corp_code': '00159023', 'corp_name': 'SK텔레콤', 'stock_code': '017670', 'corp_cls': 'Y', 'report_nm': '동일인등출자계열회사와의상품ㆍ용역거래', 'rcept_no': '20250929000027', 'flr_nm': 'SK텔레콤', 'rcept_dt': '20250929', 'rm': '공'}, {'corp_code': '00521266', 'corp_name': '수양물류', 'stock_code': '', 'corp_cls': 'E', 'report_nm': '동일인등출자계열회사와의상품ㆍ용역거래', 'rcept_no': '20250929000026', 'flr_nm': '수양물류', 'rcept_dt': '20250929', 'rm': '공'}, {'corp_code': '00336701', 'corp_name': '에셋플러스자산운용', 'stock_code': '', 'corp_cls': 'E', 'report_nm': '증권발행실적보고서(집합투자증권)(에셋플러스코리아리치투게더퇴직연금증권자투자신탁1호[채권혼합])', 'rcept_no': '20250929000025', 'flr_nm': '에셋플러스자산운용', 'rcept_dt': '20250929', 'rm': ''}, {'corp_code': '00336701', 'corp_name': '에셋플러스자산운용', 'stock_code': '', 'corp_cls': 'E', 'report_nm': '증권발행실적보고서(집합투자증권)(에셋플러스-알파브릿지AI기반S&P500성장포커스30증권투자신탁(주식))', 'rcept_no': '20250929000024', 'flr_nm': '에셋플러스자산운용', 'rcept_dt': '20250929', 'rm': ''}, {'corp_code': '00336701', 'corp_name': '에셋플러스자산운용', 'stock_code': '', 'corp_cls': 'E', 'report_nm': '증권발행실적보고서(집합투자증권)(에셋플러스-알파브릿지AI기반S&P500배당포커스30증권투자신탁(주식))', 'rcept_no': '20250929000023', 'flr_nm': '에셋플러스자산운용', 'rcept_dt': '20250929', 'rm': ''}, {'corp_code': '00113359', 'corp_name': '교보증권', 'stock_code': '030610', 'corp_cls': 'Y', 'report_nm': '일괄신고추가서류(파생결합증권-주가연계증권)', 'rcept_no': '20250929000022', 'flr_nm': '교보증권', 'rcept_dt': '20250929', 'rm': ''}, {'corp_code': '00113359', 'corp_name': '교보증권', 'stock_code': '030610', 'corp_cls': 'Y', 'report_nm': '일괄신고추가서류(파생결합사채-주가연계파생결합사채)', 'rcept_no': '20250929000020', 'flr_nm': '교보증권', 'rcept_dt': '20250929', 'rm': ''}, {'corp_code': '00124540', 'corp_name': '대우건설', 'stock_code': '047040', 'corp_cls': 'Y', 'report_nm': '투자판단관련주요경영사항              ', 'rcept_no': '20250929800048', 'flr_nm': '대우건설', 'rcept_dt': '20250929', 'rm': '유'}, {'corp_code': '00230382', 'corp_name': '교보리얼코', 'stock_code': '', 'corp_cls': 'E', 'report_nm': '타법인주식및출자증권취득결정', 'rcept_no': '20250929000018', 'flr_nm': '교보리얼코', 'rcept_dt': '20250929', 'rm': '공'}, {'corp_code': '00219875', 'corp_name': '엔디에스', 'stock_code': '', 'corp_cls': 'E', 'report_nm': '동일인등출자계열회사와의상품ㆍ용역거래', 'rcept_no': '20250929000016', 'flr_nm': '엔디에스', 'rcept_dt': '20250929', 'rm': '공'}, {'corp_code': '01736467', 'corp_name': '포항항8부두운영', 'stock_code': '', 'corp_cls': 'E', 'report_nm': '동일인등출자계열회사와의상품ㆍ용역거래', 'rcept_no': '20250929000014', 'flr_nm': '포항항8부두운영', 'rcept_dt': '20250929', 'rm': '공'}, {'corp_code': '01201590', 'corp_name': '에브리봇', 'stock_code': '270660', 'corp_cls': 'K', 'report_nm': '임원ㆍ주요주주특정증권등소유상황보고서', 'rcept_no': '20250929000013', 'flr_nm': '황민수', 'rcept_dt': '20250929', 'rm': ''}, {'corp_code': '00251400', 'corp_name': 'BNK투자증권', 'stock_code': '', 'corp_cls': 'E', 'report_nm': '증권발행실적보고서', 'rcept_no': '20250929000012', 'flr_nm': 'BNK투자증권', 'rcept_dt': '20250929', 'rm': ''}, {'corp_code': '00251400', 'corp_name': 'BNK투자증권', 'stock_code': '', 'corp_cls': 'E', 'report_nm': '증권발행실적보고서', 'rcept_no': '20250929000011', 'flr_nm': 'BNK투자증권', 'rcept_dt': '20250929', 'rm': ''}, {'corp_code': '00533809', 'corp_name': '바스칸바이오제약', 'stock_code': '354390', 'corp_cls': 'N', 'report_nm': '기업설명회(IR)개최              ', 'rcept_no': '20250929600046', 'flr_nm': '바스칸바이오제약', 'rcept_dt': '20250929', 'rm': '넥'}]}\n"
     ]
    }
   ],
   "source": [
    "import requests\n",
    "import dotenv\n",
    "import os\n",
    "dotenv.load_dotenv()\n",
    "key ='59ad1a976193678da5861a519584210e4dc98b3e'\n",
    "# key=os.getenv('OPEN_DART_KEY')\n",
    "# print(len(''))\n",
    "url ='https://opendart.fss.or.kr/api/list.json'\n",
    "params = {\n",
    "    'crtfc_key' : key,\n",
    "    'page_count' : 100\n",
    "}\n",
    "\n",
    "response = requests.get (url, params=params)\n",
    "if response.status_code == 200: #통신성공\n",
    "    print(response.json())  #print(response.text) 도 가능\n",
    "else:\n",
    "    print (\"통신오류\")\n"
   ]
  },
  {
   "cell_type": "code",
   "execution_count": null,
   "metadata": {},
   "outputs": [],
   "source": [
    "response.json()['list']"
   ]
  },
  {
   "cell_type": "code",
   "execution_count": null,
   "metadata": {},
   "outputs": [],
   "source": [
    "#고유번호 개발가이드 : https://opendart.fss.or.kr/guide/detail.do?apiGrpCd=DS001&apiId=2019018\n",
    "\n",
    "\n",
    "\n",
    "import requests\n",
    "import dotenv\n",
    "import os\n",
    "dotenv.load_dotenv()\n",
    "key ='59ad1a976193678da5861a519584210e4dc98b3e'\n",
    "url ='\thttps://opendart.fss.or.kr/api/corpCode.xml'\n",
    "params = {\n",
    "    'crtfc_key' : key\n",
    "}\n",
    "\n",
    "response = requests.get (url, params=params)\n",
    "response\n",
    "\n",
    "\n"
   ]
  },
  {
   "cell_type": "code",
   "execution_count": null,
   "metadata": {},
   "outputs": [],
   "source": [
    "response.text"
   ]
  },
  {
   "cell_type": "code",
   "execution_count": null,
   "metadata": {},
   "outputs": [],
   "source": [
    "# api  호출값이 zip 형식이면\n",
    "# with open('원하는 파일명.zip\", 'wb') as f:  f.write()\n",
    "\n",
    "with open('code.zip', 'wb') as f:\n",
    "    f.write()"
   ]
  },
  {
   "cell_type": "code",
   "execution_count": null,
   "metadata": {},
   "outputs": [],
   "source": [
    "if response.status_code == 200: #통신성공\n",
    "    print(response.text)  #print(response.text) 도 가능\n",
    "else:\n",
    "    print (\"통신오류\")"
   ]
  }
 ],
 "metadata": {
  "colab": {
   "authorship_tag": "ABX9TyMmPDgPDlEQ9VJpxhthoipr",
   "provenance": []
  },
  "kernelspec": {
   "display_name": "streamlit_prj",
   "language": "python",
   "name": "python3"
  },
  "language_info": {
   "codemirror_mode": {
    "name": "ipython",
    "version": 3
   },
   "file_extension": ".py",
   "mimetype": "text/x-python",
   "name": "python",
   "nbconvert_exporter": "python",
   "pygments_lexer": "ipython3",
   "version": "3.13.7"
  }
 },
 "nbformat": 4,
 "nbformat_minor": 4
}
