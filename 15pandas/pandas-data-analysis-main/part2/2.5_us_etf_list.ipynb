{
 "cells": [
  {
   "cell_type": "code",
   "execution_count": null,
   "metadata": {},
   "outputs": [
    {
     "name": "stdout",
     "output_type": "stream",
     "text": [
      "Requirement already satisfied: beautifulSoup4 in d:\\0python_snc\\streamlit_prj\\lib\\site-packages (4.13.5)\n",
      "Requirement already satisfied: requests in d:\\0python_snc\\streamlit_prj\\lib\\site-packages (2.32.5)\n",
      "Requirement already satisfied: soupsieve>1.2 in d:\\0python_snc\\streamlit_prj\\lib\\site-packages (from beautifulSoup4) (2.8)\n",
      "Requirement already satisfied: typing-extensions>=4.0.0 in d:\\0python_snc\\streamlit_prj\\lib\\site-packages (from beautifulSoup4) (4.14.1)\n",
      "Requirement already satisfied: charset_normalizer<4,>=2 in d:\\0python_snc\\streamlit_prj\\lib\\site-packages (from requests) (3.4.3)\n",
      "Requirement already satisfied: idna<4,>=2.5 in d:\\0python_snc\\streamlit_prj\\lib\\site-packages (from requests) (3.10)\n",
      "Requirement already satisfied: urllib3<3,>=1.21.1 in d:\\0python_snc\\streamlit_prj\\lib\\site-packages (from requests) (2.5.0)\n",
      "Requirement already satisfied: certifi>=2017.4.17 in d:\\0python_snc\\streamlit_prj\\lib\\site-packages (from requests) (2025.8.3)\n",
      "Note: you may need to restart the kernel to use updated packages.\n"
     ]
    }
   ],
   "source": [
    "%pip install beautifulSoup4 requests\n",
    "# 라이브러리를 같이 설치하게 되면 서로 의존관계를 파악해서 맞는 버전으로 설치해줌\n",
    "#%pip install beautifulSoup4  / #%pip install requests  ==> 별도 설치보다 같이 설치하는게 좋음."
   ]
  },
  {
   "cell_type": "code",
   "execution_count": 9,
   "metadata": {
    "executionInfo": {
     "elapsed": 2337,
     "status": "ok",
     "timestamp": 1706180950836,
     "user": {
      "displayName": "Steve",
      "userId": "13015281013241816762"
     },
     "user_tz": -540
    },
    "id": "PSJ0UQVYOkXc",
    "tags": []
   },
   "outputs": [],
   "source": [
    "# 라이브러리 불러오기\n",
    "from bs4 import BeautifulSoup\n",
    "import requests\n",
    "import re\n",
    "import pandas as pd"
   ]
  },
  {
   "cell_type": "code",
   "execution_count": null,
   "metadata": {},
   "outputs": [
    {
     "data": {
      "text/plain": [
       "False"
      ]
     },
     "execution_count": 3,
     "metadata": {},
     "output_type": "execute_result"
    }
   ],
   "source": [
    "# 크롤링 가능 여부 확인\n",
    "import urllib.robotparser\n",
    "rp = urllib.robotparser.RobotFileParser()\n",
    "rp.set_url(\"https://www.naver.com/robots.txt\")\n",
    "rp.read()\n",
    "url = 'https://news.naver.com/'\n",
    "rp.can_fetch('*', url)\n",
    "\n",
    "# False로 나오면 크롤링 불가능.. "
   ]
  },
  {
   "cell_type": "code",
   "execution_count": null,
   "metadata": {},
   "outputs": [
    {
     "data": {
      "text/plain": [
       "True"
      ]
     },
     "execution_count": 4,
     "metadata": {},
     "output_type": "execute_result"
    }
   ],
   "source": [
    "# 크롤링 가능 여부 확인 : ex. 할리스 매장정보 크롤링 가능 True로 크롤링 가능함\n",
    "import urllib.robotparser\n",
    "rp = urllib.robotparser.RobotFileParser()\n",
    "rp.set_url(\"https://www.hollys.co.kr/robots.txt\")\n",
    "rp.read()\n",
    "url = 'https://www.hollys.co.kr/store/korea/korStore2.do'\n",
    "rp.can_fetch('*', url)"
   ]
  },
  {
   "cell_type": "code",
   "execution_count": null,
   "metadata": {
    "tags": []
   },
   "outputs": [
    {
     "name": "stdout",
     "output_type": "stream",
     "text": [
      "iShares Core S&P Total US Stock Mkt (NYSE Arca: ITOT)\n",
      "iShares MSCI ACWI Index (Nasdaq: ACWI)\n",
      "iShares Russell 3000 Index (NYSE Arca: IWV)\n",
      "Schwab US Broad Market ETF (NYSE Arca: SCHB)\n",
      "Schwab Fundamental U.S. Broad Market Index ETF (NYSE Arca: FNDB)\n",
      "Vanguard Total World Stock (NYSE Arca: VT), tracks the FTSE All-World Index\n",
      "Vanguard Total Stock Market (NYSE Arca: VTI), tracks the MSCI US Broad Market Index\n",
      "Vanguard Total International Stock (NYSE Arca: VXUS), tracks the MSCI All Country World ex-USA Investable Market Index\n",
      "Vanguard Russell 3000 (NYSE Arca: VTHR), tracks 98% of the US market\n"
     ]
    }
   ],
   "source": [
    "# 위키피디아 미국 ETF 웹 페이지에서 필요한 정보를 스크래핑하여 딕셔너리 형태로 변수 etfs에 저장\n",
    "url = \"https://en.wikipedia.org/wiki/List_of_American_exchange-traded_funds\"\n",
    "\n",
    "# 크롤링 정책중에 User-Agent_Policy 가 있으면, header정보 추가 가능\n",
    "# 크롤링 가능 여부는, 사이트 주소 뒤에 robots.txt 하면 ueser-agent 정보가 나옴. 거기 disallow 또는 allow로 정보 나옴. \n",
    "# https://foundation.wikimedia.org/wiki/Policy:Wikimedia_Foundation_User-Agent_Policy \n",
    "# 상기 사이트에서 user agent 정보 가져오기\n",
    "header = {\n",
    "\"User-Agent\": \"CoolBot/0.0 (https://example.org/coolbot/; coolbot@example.org) generic-library/0.0\"\n",
    "}\n",
    "\n",
    "resp = requests.get(url, headers=header )\n",
    "soup = BeautifulSoup(resp.text, 'lxml')   \n",
    "#F12해서 기존 div > ul > li  위치 확인해서 copy selector로 가져오기 \n",
    "rows = soup.select('#mw-content-text > div.mw-content-ltr.mw-parser-output > ul:nth-child(11) > li') \n",
    "\n",
    "for row in rows:\n",
    "    print(row.text)"
   ]
  },
  {
   "cell_type": "code",
   "execution_count": 11,
   "metadata": {
    "tags": []
   },
   "outputs": [
    {
     "name": "stdout",
     "output_type": "stream",
     "text": [
      "{}\n"
     ]
    },
    {
     "name": "stderr",
     "output_type": "stream",
     "text": [
      "<>:5: SyntaxWarning: invalid escape sequence '\\s'\n",
      "<>:6: SyntaxWarning: invalid escape sequence '\\('\n",
      "<>:7: SyntaxWarning: invalid escape sequence '\\s'\n",
      "<>:5: SyntaxWarning: invalid escape sequence '\\s'\n",
      "<>:6: SyntaxWarning: invalid escape sequence '\\('\n",
      "<>:7: SyntaxWarning: invalid escape sequence '\\s'\n",
      "C:\\Users\\playdata2\\AppData\\Local\\Temp\\ipykernel_13292\\1232222225.py:5: SyntaxWarning: invalid escape sequence '\\s'\n",
      "  etf_name = re.findall(\"(.+?)\\s\\(\", row.text)\n",
      "C:\\Users\\playdata2\\AppData\\Local\\Temp\\ipykernel_13292\\1232222225.py:6: SyntaxWarning: invalid escape sequence '\\('\n",
      "  etf_market = re.findall(\"\\((.+?):\", row.text)\n",
      "C:\\Users\\playdata2\\AppData\\Local\\Temp\\ipykernel_13292\\1232222225.py:7: SyntaxWarning: invalid escape sequence '\\s'\n",
      "  etf_ticker = re.findall(\":\\s(.+)\\)\", row.text)\n"
     ]
    }
   ],
   "source": [
    "etfs = {}\n",
    "for row in rows:\n",
    "    \n",
    "    try:\n",
    "        etf_name = re.findall(\"(.+?)\\s\\(\", row.text)\n",
    "        etf_market = re.findall(\"\\((.+?):\", row.text)\n",
    "        etf_ticker = re.findall(\":\\s(.+)\\)\", row.text)\n",
    "        \n",
    "        if (len(etf_ticker) > 0) & (len(etf_market) > 0) & (len(etf_name) > 0):\n",
    "            etfs[etf_ticker[0]] = [etf_market[0], etf_name[0]]\n",
    "\n",
    "    except AttributeError as err:\n",
    "        pass    \n",
    "\n",
    "# etfs 딕셔너리 출력\n",
    "print(etfs)"
   ]
  },
  {
   "cell_type": "code",
   "execution_count": 12,
   "metadata": {
    "tags": []
   },
   "outputs": [
    {
     "data": {
      "text/html": [
       "<div>\n",
       "<style scoped>\n",
       "    .dataframe tbody tr th:only-of-type {\n",
       "        vertical-align: middle;\n",
       "    }\n",
       "\n",
       "    .dataframe tbody tr th {\n",
       "        vertical-align: top;\n",
       "    }\n",
       "\n",
       "    .dataframe thead th {\n",
       "        text-align: right;\n",
       "    }\n",
       "</style>\n",
       "<table border=\"1\" class=\"dataframe\">\n",
       "  <thead>\n",
       "    <tr style=\"text-align: right;\">\n",
       "      <th></th>\n",
       "    </tr>\n",
       "  </thead>\n",
       "  <tbody>\n",
       "  </tbody>\n",
       "</table>\n",
       "</div>"
      ],
      "text/plain": [
       "Empty DataFrame\n",
       "Columns: []\n",
       "Index: []"
      ]
     },
     "execution_count": 12,
     "metadata": {},
     "output_type": "execute_result"
    }
   ],
   "source": [
    "# etfs 딕셔너리를 데이터프레임으로 변환\n",
    "df = pd.DataFrame(etfs)\n",
    "df"
   ]
  }
 ],
 "metadata": {
  "colab": {
   "authorship_tag": "ABX9TyMmPDgPDlEQ9VJpxhthoipr",
   "provenance": []
  },
  "kernelspec": {
   "display_name": "streamlit_prj",
   "language": "python",
   "name": "python3"
  },
  "language_info": {
   "codemirror_mode": {
    "name": "ipython",
    "version": 3
   },
   "file_extension": ".py",
   "mimetype": "text/x-python",
   "name": "python",
   "nbconvert_exporter": "python",
   "pygments_lexer": "ipython3",
   "version": "3.13.7"
  }
 },
 "nbformat": 4,
 "nbformat_minor": 4
}
