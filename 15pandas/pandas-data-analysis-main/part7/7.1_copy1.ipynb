{
 "cells": [
  {
   "cell_type": "code",
   "execution_count": 38,
   "id": "dd7dc8f2-7a23-4748-ac17-1855c7e02a84",
   "metadata": {
    "tags": []
   },
   "outputs": [
    {
     "data": {
      "text/html": [
       "<div>\n",
       "<style scoped>\n",
       "    .dataframe tbody tr th:only-of-type {\n",
       "        vertical-align: middle;\n",
       "    }\n",
       "\n",
       "    .dataframe tbody tr th {\n",
       "        vertical-align: top;\n",
       "    }\n",
       "\n",
       "    .dataframe thead th {\n",
       "        text-align: right;\n",
       "    }\n",
       "</style>\n",
       "<table border=\"1\" class=\"dataframe\">\n",
       "  <thead>\n",
       "    <tr style=\"text-align: right;\">\n",
       "      <th></th>\n",
       "      <th>mpg</th>\n",
       "      <th>cylinders</th>\n",
       "      <th>displacement</th>\n",
       "      <th>horsepower</th>\n",
       "      <th>weight</th>\n",
       "      <th>acceleration</th>\n",
       "      <th>model year</th>\n",
       "      <th>origin</th>\n",
       "      <th>name</th>\n",
       "    </tr>\n",
       "  </thead>\n",
       "  <tbody>\n",
       "    <tr>\n",
       "      <th>0</th>\n",
       "      <td>18.0</td>\n",
       "      <td>8</td>\n",
       "      <td>307.0</td>\n",
       "      <td>130.0</td>\n",
       "      <td>3504.0</td>\n",
       "      <td>12.0</td>\n",
       "      <td>70</td>\n",
       "      <td>1</td>\n",
       "      <td>chevrolet chevelle malibu</td>\n",
       "    </tr>\n",
       "    <tr>\n",
       "      <th>1</th>\n",
       "      <td>15.0</td>\n",
       "      <td>8</td>\n",
       "      <td>350.0</td>\n",
       "      <td>165.0</td>\n",
       "      <td>3693.0</td>\n",
       "      <td>11.5</td>\n",
       "      <td>70</td>\n",
       "      <td>1</td>\n",
       "      <td>buick skylark 320</td>\n",
       "    </tr>\n",
       "    <tr>\n",
       "      <th>2</th>\n",
       "      <td>18.0</td>\n",
       "      <td>8</td>\n",
       "      <td>318.0</td>\n",
       "      <td>150.0</td>\n",
       "      <td>3436.0</td>\n",
       "      <td>11.0</td>\n",
       "      <td>70</td>\n",
       "      <td>1</td>\n",
       "      <td>plymouth satellite</td>\n",
       "    </tr>\n",
       "    <tr>\n",
       "      <th>3</th>\n",
       "      <td>16.0</td>\n",
       "      <td>8</td>\n",
       "      <td>304.0</td>\n",
       "      <td>150.0</td>\n",
       "      <td>3433.0</td>\n",
       "      <td>12.0</td>\n",
       "      <td>70</td>\n",
       "      <td>1</td>\n",
       "      <td>amc rebel sst</td>\n",
       "    </tr>\n",
       "    <tr>\n",
       "      <th>4</th>\n",
       "      <td>17.0</td>\n",
       "      <td>8</td>\n",
       "      <td>302.0</td>\n",
       "      <td>140.0</td>\n",
       "      <td>3449.0</td>\n",
       "      <td>10.5</td>\n",
       "      <td>70</td>\n",
       "      <td>1</td>\n",
       "      <td>ford torino</td>\n",
       "    </tr>\n",
       "  </tbody>\n",
       "</table>\n",
       "</div>"
      ],
      "text/plain": [
       "    mpg  cylinders  displacement horsepower  weight  acceleration  model year  \\\n",
       "0  18.0          8         307.0      130.0  3504.0          12.0          70   \n",
       "1  15.0          8         350.0      165.0  3693.0          11.5          70   \n",
       "2  18.0          8         318.0      150.0  3436.0          11.0          70   \n",
       "3  16.0          8         304.0      150.0  3433.0          12.0          70   \n",
       "4  17.0          8         302.0      140.0  3449.0          10.5          70   \n",
       "\n",
       "   origin                       name  \n",
       "0       1  chevrolet chevelle malibu  \n",
       "1       1          buick skylark 320  \n",
       "2       1         plymouth satellite  \n",
       "3       1              amc rebel sst  \n",
       "4       1                ford torino  "
      ]
     },
     "execution_count": 38,
     "metadata": {},
     "output_type": "execute_result"
    }
   ],
   "source": [
    "# regression : 회귀\n",
    "# 기본 라이브러리 불러오기\n",
    "import pandas as pd\n",
    "import numpy as np\n",
    "import matplotlib.pyplot as plt\n",
    "import seaborn as sns\n",
    "\n",
    "'''\n",
    "[Step 1] 데이터 준비 - read_csv() 함수로 자동차 연비 데이터셋 가져오기\n",
    "'''\n",
    "# CSV 파일을 데이터프레임으로 변환\n",
    "#url=\n",
    "#df = pd.read_csv(url, header=None)\n",
    "df = pd.read_csv('./data/auto-mpg.csv', header=None)\n",
    "\n",
    "# 열 이름 지정\n",
    "df.columns = ['mpg','cylinders','displacement','horsepower','weight',\n",
    "              'acceleration','model year','origin','name'] \n",
    "\n",
    "# 데이터 살펴보기\n",
    "df.head()\n"
   ]
  },
  {
   "cell_type": "code",
   "execution_count": 39,
   "id": "2cd4725d",
   "metadata": {},
   "outputs": [],
   "source": [
    "# hosrsepower 결측치 nan으로 변경\n",
    "df.horsepower = pd.to_numeric(df.horsepower, errors='coerce')\n",
    "# 평균값으로 대처\n",
    "df.fillna(df.horsepower.mean(), inplace=True)"
   ]
  },
  {
   "cell_type": "code",
   "execution_count": 40,
   "id": "efdee098",
   "metadata": {},
   "outputs": [
    {
     "name": "stdout",
     "output_type": "stream",
     "text": [
      "<class 'pandas.core.frame.DataFrame'>\n",
      "RangeIndex: 398 entries, 0 to 397\n",
      "Data columns (total 9 columns):\n",
      " #   Column        Non-Null Count  Dtype  \n",
      "---  ------        --------------  -----  \n",
      " 0   mpg           398 non-null    float64\n",
      " 1   cylinders     398 non-null    int64  \n",
      " 2   displacement  398 non-null    float64\n",
      " 3   horsepower    398 non-null    float64\n",
      " 4   weight        398 non-null    float64\n",
      " 5   acceleration  398 non-null    float64\n",
      " 6   model year    398 non-null    int64  \n",
      " 7   origin        398 non-null    int64  \n",
      " 8   name          398 non-null    object \n",
      "dtypes: float64(5), int64(3), object(1)\n",
      "memory usage: 28.1+ KB\n"
     ]
    }
   ],
   "source": [
    "df.info()"
   ]
  },
  {
   "cell_type": "code",
   "execution_count": 41,
   "id": "ac859360",
   "metadata": {},
   "outputs": [
    {
     "data": {
      "text/html": [
       "<div>\n",
       "<style scoped>\n",
       "    .dataframe tbody tr th:only-of-type {\n",
       "        vertical-align: middle;\n",
       "    }\n",
       "\n",
       "    .dataframe tbody tr th {\n",
       "        vertical-align: top;\n",
       "    }\n",
       "\n",
       "    .dataframe thead th {\n",
       "        text-align: right;\n",
       "    }\n",
       "</style>\n",
       "<table border=\"1\" class=\"dataframe\">\n",
       "  <thead>\n",
       "    <tr style=\"text-align: right;\">\n",
       "      <th></th>\n",
       "      <th>mpg</th>\n",
       "      <th>cylinders</th>\n",
       "      <th>displacement</th>\n",
       "      <th>horsepower</th>\n",
       "      <th>weight</th>\n",
       "      <th>acceleration</th>\n",
       "      <th>model year</th>\n",
       "      <th>origin</th>\n",
       "    </tr>\n",
       "  </thead>\n",
       "  <tbody>\n",
       "    <tr>\n",
       "      <th>mpg</th>\n",
       "      <td>1.000000</td>\n",
       "      <td>-0.775396</td>\n",
       "      <td>-0.804203</td>\n",
       "      <td>-0.771437</td>\n",
       "      <td>-0.831741</td>\n",
       "      <td>0.420289</td>\n",
       "      <td>0.579267</td>\n",
       "      <td>0.563450</td>\n",
       "    </tr>\n",
       "    <tr>\n",
       "      <th>cylinders</th>\n",
       "      <td>-0.775396</td>\n",
       "      <td>1.000000</td>\n",
       "      <td>0.950721</td>\n",
       "      <td>0.838939</td>\n",
       "      <td>0.896017</td>\n",
       "      <td>-0.505419</td>\n",
       "      <td>-0.348746</td>\n",
       "      <td>-0.562543</td>\n",
       "    </tr>\n",
       "    <tr>\n",
       "      <th>displacement</th>\n",
       "      <td>-0.804203</td>\n",
       "      <td>0.950721</td>\n",
       "      <td>1.000000</td>\n",
       "      <td>0.893646</td>\n",
       "      <td>0.932824</td>\n",
       "      <td>-0.543684</td>\n",
       "      <td>-0.370164</td>\n",
       "      <td>-0.609409</td>\n",
       "    </tr>\n",
       "    <tr>\n",
       "      <th>horsepower</th>\n",
       "      <td>-0.771437</td>\n",
       "      <td>0.838939</td>\n",
       "      <td>0.893646</td>\n",
       "      <td>1.000000</td>\n",
       "      <td>0.860574</td>\n",
       "      <td>-0.684259</td>\n",
       "      <td>-0.411651</td>\n",
       "      <td>-0.453669</td>\n",
       "    </tr>\n",
       "    <tr>\n",
       "      <th>weight</th>\n",
       "      <td>-0.831741</td>\n",
       "      <td>0.896017</td>\n",
       "      <td>0.932824</td>\n",
       "      <td>0.860574</td>\n",
       "      <td>1.000000</td>\n",
       "      <td>-0.417457</td>\n",
       "      <td>-0.306564</td>\n",
       "      <td>-0.581024</td>\n",
       "    </tr>\n",
       "    <tr>\n",
       "      <th>acceleration</th>\n",
       "      <td>0.420289</td>\n",
       "      <td>-0.505419</td>\n",
       "      <td>-0.543684</td>\n",
       "      <td>-0.684259</td>\n",
       "      <td>-0.417457</td>\n",
       "      <td>1.000000</td>\n",
       "      <td>0.288137</td>\n",
       "      <td>0.205873</td>\n",
       "    </tr>\n",
       "    <tr>\n",
       "      <th>model year</th>\n",
       "      <td>0.579267</td>\n",
       "      <td>-0.348746</td>\n",
       "      <td>-0.370164</td>\n",
       "      <td>-0.411651</td>\n",
       "      <td>-0.306564</td>\n",
       "      <td>0.288137</td>\n",
       "      <td>1.000000</td>\n",
       "      <td>0.180662</td>\n",
       "    </tr>\n",
       "    <tr>\n",
       "      <th>origin</th>\n",
       "      <td>0.563450</td>\n",
       "      <td>-0.562543</td>\n",
       "      <td>-0.609409</td>\n",
       "      <td>-0.453669</td>\n",
       "      <td>-0.581024</td>\n",
       "      <td>0.205873</td>\n",
       "      <td>0.180662</td>\n",
       "      <td>1.000000</td>\n",
       "    </tr>\n",
       "  </tbody>\n",
       "</table>\n",
       "</div>"
      ],
      "text/plain": [
       "                   mpg  cylinders  displacement  horsepower    weight  \\\n",
       "mpg           1.000000  -0.775396     -0.804203   -0.771437 -0.831741   \n",
       "cylinders    -0.775396   1.000000      0.950721    0.838939  0.896017   \n",
       "displacement -0.804203   0.950721      1.000000    0.893646  0.932824   \n",
       "horsepower   -0.771437   0.838939      0.893646    1.000000  0.860574   \n",
       "weight       -0.831741   0.896017      0.932824    0.860574  1.000000   \n",
       "acceleration  0.420289  -0.505419     -0.543684   -0.684259 -0.417457   \n",
       "model year    0.579267  -0.348746     -0.370164   -0.411651 -0.306564   \n",
       "origin        0.563450  -0.562543     -0.609409   -0.453669 -0.581024   \n",
       "\n",
       "              acceleration  model year    origin  \n",
       "mpg               0.420289    0.579267  0.563450  \n",
       "cylinders        -0.505419   -0.348746 -0.562543  \n",
       "displacement     -0.543684   -0.370164 -0.609409  \n",
       "horsepower       -0.684259   -0.411651 -0.453669  \n",
       "weight           -0.417457   -0.306564 -0.581024  \n",
       "acceleration      1.000000    0.288137  0.205873  \n",
       "model year        0.288137    1.000000  0.180662  \n",
       "origin            0.205873    0.180662  1.000000  "
      ]
     },
     "execution_count": 41,
     "metadata": {},
     "output_type": "execute_result"
    }
   ],
   "source": [
    "# mpg와 선형성이 있는 컬럼들을 확인\n",
    "# 상관계수, 시각화(산점도 scatterplot), regplot 으로 확인\n",
    "corr = df.corr(numeric_only=True)\n",
    "corr"
   ]
  },
  {
   "cell_type": "code",
   "execution_count": 42,
   "id": "092196c1",
   "metadata": {},
   "outputs": [
    {
     "data": {
      "text/plain": [
       "<Axes: xlabel='mpg', ylabel='displacement'>"
      ]
     },
     "execution_count": 42,
     "metadata": {},
     "output_type": "execute_result"
    },
    {
     "data": {
      "image/png": "[encoded data removed]",
      "text/plain": [
       "<Figure size 640x480 with 1 Axes>"
      ]
     },
     "metadata": {},
     "output_type": "display_data"
    }
   ],
   "source": [
    "# sns.scatterplot(data=df, x='mpg', y='displacement')\n",
    "sns.regplot(data=df, x='mpg', y='displacement')"
   ]
  },
  {
   "cell_type": "code",
   "execution_count": null,
   "id": "b4812369",
   "metadata": {},
   "outputs": [
    {
     "name": "stdout",
     "output_type": "stream",
     "text": [
      "train data 개수:  318\n",
      "test data 개수:  80\n",
      "total data 개수:  398\n"
     ]
    }
   ],
   "source": [
    "\n",
    "# 학습용과 테으스트용 데이터 분리\n",
    "from sklearn.model_selection import train_test_split\n",
    "X_train, X_test, y_train, y_test = train_test_split(df[['displacement', 'weight']],  #독립 변수 여러개 기재, 각각 결정계수 확인 가능(하기셀)\n",
    "                                                    df.mpg,               #종속 변수\n",
    "                                                    test_size=0.2,   #검증 20%\n",
    "                                                    random_state=45) #랜덤 추출 값 \n",
    "\n",
    "print('train data 개수: ', len(X_train))\n",
    "print('test data 개수: ', len(X_test))\n",
    "print('total data 개수: ', len(X))"
   ]
  },
  {
   "cell_type": "code",
   "execution_count": 44,
   "id": "ecbe3de9-b630-474c-86c5-c4777e1cf1fa",
   "metadata": {
    "tags": []
   },
   "outputs": [
    {
     "name": "stdout",
     "output_type": "stream",
     "text": [
      "R^2 결정계수:  0.6540122078670478\n"
     ]
    }
   ],
   "source": [
    "'''\n",
    "Step 5: 단순회귀분석 모델 - sklearn 사용\n",
    "sklearn 계열의 데이터는 항상 2차원을 요구. demension 2\n",
    "'''\n",
    "\n",
    "# sklearn 라이브러리에서 선형회귀분석 모듈 가져오기\n",
    "from sklearn.linear_model import LinearRegression\n",
    "\n",
    "# 단순회귀분석 모델 객체 생성\n",
    "lr = LinearRegression()   \n",
    "\n",
    "# train data를 가지고 모델 학습 : fit 학습시키고 적용\n",
    "lr.fit(X_train[['displacement']], y_train)\n",
    "\n",
    "# 학습을 마친 모델에 test data를 적용하여 결정계수(R-제곱) 계산\n",
    "r_square = lr.score(X_test[['displacement']], y_test)    \n",
    "print('R^2 결정계수: ', r_square)   #결정계수 1이되면 완벽 (0과1사이 결정계수 값을 알려줌.)"
   ]
  },
  {
   "cell_type": "code",
   "execution_count": 45,
   "id": "1ac6ed08",
   "metadata": {},
   "outputs": [
    {
     "name": "stdout",
     "output_type": "stream",
     "text": [
      "R^2 결정계수:  0.6650258658981525\n"
     ]
    }
   ],
   "source": [
    "'''\n",
    "Step 5: 단순회귀분석 모델 - sklearn 사용\n",
    "sklearn 계열의 데이터는 항상 2차원을 요구. demension 2\n",
    "'''\n",
    "\n",
    "# sklearn 라이브러리에서 선형회귀분석 모듈 가져오기\n",
    "from sklearn.linear_model import LinearRegression\n",
    "\n",
    "# 단순회귀분석 모델 객체 생성\n",
    "lr = LinearRegression()   \n",
    "\n",
    "# train data를 가지고 모델 학습 : fit 학습시키고 적용\n",
    "lr.fit(X_train[['weight']], y_train)\n",
    "\n",
    "# 학습을 마친 모델에 test data를 적용하여 결정계수(R-제곱) 계산\n",
    "r_square = lr.score(X_test[['weight']], y_test)    \n",
    "print('R^2 결정계수: ', r_square)   #결정계수 1이되면 완벽 (0과1사이 결정계수 값을 알려줌.)"
   ]
  },
  {
   "cell_type": "code",
   "execution_count": null,
   "id": "5b1d48fb",
   "metadata": {},
   "outputs": [],
   "source": [
    "# 데이터 정규화 또는 스케일링, 이상치 여부 확인하고 제거\n",
    "# 정규화 : Min-Max Scaling 데이터를 0~1사이의 값으로 압축\n",
    "# 표준화 : StandardScaler : 데이터를 평균 0 표준편차 1\n",
    "# 이상치 제거\n",
    "# 구간화 : 범주형 데이터로 변환"
   ]
  },
  {
   "cell_type": "code",
   "execution_count": 49,
   "id": "d7c07d77",
   "metadata": {},
   "outputs": [
    {
     "name": "stdout",
     "output_type": "stream",
     "text": [
      "[[0.63086987]\n",
      " [0.85433297]]\n"
     ]
    },
    {
     "data": {
      "text/plain": [
       "(318, 318)"
      ]
     },
     "execution_count": 49,
     "metadata": {},
     "output_type": "execute_result"
    }
   ],
   "source": [
    "from sklearn.preprocessing import StandardScaler\n",
    "sds = StandardScaler()\n",
    "scaled_weight = sds.fit_transform(df[['weight']])\n",
    "print(scaled_weight[:2])\n",
    "x_train, x_test, y_train, y_test = train_test_split(scaled_weight, df.mpg, test_size=0.2, random_state=100)\n",
    "len(x_train), len(y_train)"
   ]
  },
  {
   "cell_type": "code",
   "execution_count": 50,
   "id": "e504e63c",
   "metadata": {},
   "outputs": [
    {
     "name": "stdout",
     "output_type": "stream",
     "text": [
      "R^2 결정계수:  0.7373187848306613\n"
     ]
    }
   ],
   "source": [
    "# sklearn 라이브러리에서 선형회귀분석 모듈 가져오기\n",
    "from sklearn.linear_model import LinearRegression\n",
    "\n",
    "# 단순회귀분석 모델 객체 생성\n",
    "lr = LinearRegression()   \n",
    "\n",
    "# train data를 가지고 모델 학습 : fit 학습시키고 적용\n",
    "lr.fit(x_train, y_train)\n",
    "\n",
    "# 학습을 마친 모델에 test data를 적용하여 결정계수(R-제곱) 계산\n",
    "r_square = lr.score(x_test, y_test)    \n",
    "print('R^2 결정계수: ', r_square)   #결정계수 1이되면 완벽 (0과1사이 결정계수 값을 알려줌.)"
   ]
  },
  {
   "cell_type": "code",
   "execution_count": 46,
   "id": "4facaad9",
   "metadata": {},
   "outputs": [
    {
     "data": {
      "text/plain": [
       "(318, 80)"
      ]
     },
     "execution_count": 46,
     "metadata": {},
     "output_type": "execute_result"
    }
   ],
   "source": [
    "from sklearn.preprocessing import StandardScaler\n",
    "sds = StandardScaler()\n",
    "x_scaled_train = sds.fit_transform(X_train[['weight']])\n",
    "x_scaled_test = sds.transform(X_test[['weight']])\n",
    "len(x_scaled_train),len(x_scaled_test)"
   ]
  },
  {
   "cell_type": "code",
   "execution_count": 47,
   "id": "25bf7cb5",
   "metadata": {},
   "outputs": [
    {
     "data": {
      "text/plain": [
       "0.6650258658981526"
      ]
     },
     "execution_count": 47,
     "metadata": {},
     "output_type": "execute_result"
    }
   ],
   "source": [
    "# sklearn 계열의 데이터는 항상 2차원을 요구  demesion 2  \n",
    "# 학습 선형회귀\n",
    "from sklearn.linear_model import LinearRegression\n",
    "lr = LinearRegression()  # 모델생성\n",
    "lr.fit(x_scaled_train, y_train)  #모델을 학습용 데이터로 학습\n",
    "# 결정계수\n",
    "lr.score(x_scaled_test, y_test)"
   ]
  },
  {
   "cell_type": "markdown",
   "id": "91879f37",
   "metadata": {},
   "source": [
    "[45] 셀과 [47] 셀의 결정계수 값이 거의 동일함.\n",
    "비교수치가 하나라서..?? 결정계수 값이 스케일링을 하더라도 동일하다. \n",
    "여러가지 일 때 스케일링 해야지 차이가 있음.??"
   ]
  }
 ],
 "metadata": {
  "kernelspec": {
   "display_name": "streamlit_prj",
   "language": "python",
   "name": "python3"
  },
  "language_info": {
   "codemirror_mode": {
    "name": "ipython",
    "version": 3
   },
   "file_extension": ".py",
   "mimetype": "text/x-python",
   "name": "python",
   "nbconvert_exporter": "python",
   "pygments_lexer": "ipython3",
   "version": "3.13.7"
  }
 },
 "nbformat": 4,
 "nbformat_minor": 5
}
