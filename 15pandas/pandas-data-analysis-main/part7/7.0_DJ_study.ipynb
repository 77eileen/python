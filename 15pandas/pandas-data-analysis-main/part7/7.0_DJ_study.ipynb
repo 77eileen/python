{
 "cells": [
  {
   "cell_type": "markdown",
   "id": "1d31dbe2",
   "metadata": {},
   "source": [
    "그럼 KNN과 **Regression(회귀)**은 뭐가 달라?\n",
    "\n",
    "둘 다 머신러닝 모델(=학습 알고리즘)이에요.\n",
    "하지만 예측하는 방식이 달라요.\n",
    "\n",
    "📍 Regression (회귀) : “숫자값을 예측”하는 모델이에요.\n",
    "\n",
    "예를 들어\n",
    "공부시간(입력) → 시험점수(출력)을 예측한다면\n",
    "공부시간이 많을수록 점수가 올라가는 **직선(또는 곡선)**을 그려요.\n",
    "\n",
    "그 직선의 **공식(y = ax + b)**으로 예측을 해요.\n",
    "\n",
    "\n",
    "\n",
    "\n",
    "📍 KNN (K-Nearest Neighbors, K-최근접 이웃) “비슷한 애들을 찾아서 결정”하는 모델이에요.\n",
    "\n",
    "KNN은 직접 공식을 만들지 않아요.\n",
    "대신 **“주변에 있는 애들이 뭐였는지”**를 보고 결정해요."
   ]
  },
  {
   "cell_type": "markdown",
   "id": "b838d4e0",
   "metadata": {},
   "source": [
    "| 상황                               | 사용하는 모델                | 이유              |\n",
    "| -------------------------------- | ---------------------- | --------------- |\n",
    "| 결과가 숫자일 때 (점수, 가격, 키 등)          | **Regression**         | 연속적인 수치를 예측     |\n",
    "| 결과가 이름이나 종류일 때 (합격/불합격, 강아지/고양이) | **KNN Classification** | 분류 문제           |\n",
    "| 데이터가 복잡하고 공식이 잘 안 나올 때           | **KNN Regression**     | 비슷한 데이터 평균으로 예측 |\n"
   ]
  }
 ],
 "metadata": {
  "kernelspec": {
   "display_name": "streamlit_prj",
   "language": "python",
   "name": "python3"
  },
  "language_info": {
   "codemirror_mode": {
    "name": "ipython",
    "version": 3
   },
   "file_extension": ".py",
   "mimetype": "text/x-python",
   "name": "python",
   "nbconvert_exporter": "python",
   "pygments_lexer": "ipython3",
   "version": "3.13.7"
  }
 },
 "nbformat": 4,
 "nbformat_minor": 5
}
