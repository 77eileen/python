{
 "cells": [
  {
   "cell_type": "code",
   "execution_count": 42,
   "id": "3c10331c",
   "metadata": {},
   "outputs": [
    {
     "name": "stdout",
     "output_type": "stream",
     "text": [
      "=======결측치 확인 (isna)=========\n",
      "       A      B      C\n",
      "0  False  False  False\n",
      "1  False   True  False\n",
      "2   True   True  False\n",
      "3  False  False  False\n",
      "===========열별 결측치 개수 확인========\n",
      "A    1\n",
      "B    2\n",
      "C    0\n",
      "dtype: int64\n",
      "============info=============\n",
      "<class 'pandas.core.frame.DataFrame'>\n",
      "RangeIndex: 4 entries, 0 to 3\n",
      "Data columns (total 3 columns):\n",
      " #   Column  Non-Null Count  Dtype  \n",
      "---  ------  --------------  -----  \n",
      " 0   A       3 non-null      float64\n",
      " 1   B       2 non-null      float64\n",
      " 2   C       4 non-null      int64  \n",
      "dtypes: float64(2), int64(1)\n",
      "memory usage: 228.0 bytes\n",
      "None\n"
     ]
    }
   ],
   "source": [
    "# 결측치 : 다양한 이유로 불완전한 데이터 - 누락 None NaN\n",
    "import pandas as pd\n",
    "import numpy as np\n",
    "np.array([1,2,3]) #==> list 형태로 출력 array([1, 2, 3])\n",
    "list(np.array([1,2,3])) # ==> [np.int64(1), np.int64(2), np.int64(3)]\n",
    "np.array([1,2,3]) + np.array([1,2,3]) # ==> 출력 array([2, 4, 6])\n",
    "np.array([1,2,3])*3 # ==> array([3, 6, 9])\n",
    "[1,2,3]*3  # ==> [1, 2, 3, 1, 2, 3, 1, 2, 3]\n",
    "# 결측치 표현 : pd.NA   np.nan\n",
    "df = pd.DataFrame({\n",
    "     'A' : [1,2,np.nan, 4], \n",
    "     'B' : [5, np.nan, np.nan, 8],\n",
    "     'C' : [9,10,11,12],\n",
    "})\n",
    "print ('=======결측치 확인 (isna)=========')\n",
    "print (df.isna()) #==>결측치인 값들만 True로 표기됨. \n",
    "print ('===========열별 결측치 개수 확인========')\n",
    "print(df.isna().sum())\n",
    "print('============info=============')\n",
    "print(df.info())"
   ]
  },
  {
   "cell_type": "code",
   "execution_count": 43,
   "id": "68bcf427",
   "metadata": {},
   "outputs": [
    {
     "name": "stdout",
     "output_type": "stream",
     "text": [
      "     A    B   C\n",
      "0  1.0  5.0   9\n",
      "1  2.0  NaN  10\n",
      "2  NaN  NaN  11\n",
      "3  4.0  8.0  12\n",
      "===========df.dropna()=============\n",
      "     A    B   C\n",
      "0  1.0  5.0   9\n",
      "3  4.0  8.0  12\n",
      "===========df.dropna(axis=1)=============\n",
      "    C\n",
      "0   9\n",
      "1  10\n",
      "2  11\n",
      "3  12\n",
      "===========df.dropna(how=all)=============\n",
      "     A    B   C\n",
      "0  1.0  5.0   9\n",
      "1  2.0  NaN  10\n",
      "2  NaN  NaN  11\n",
      "3  4.0  8.0  12\n",
      "     A    B   C\n",
      "0  1.0  5.0   9\n",
      "1  2.0  NaN  10\n",
      "3  4.0  8.0  12\n"
     ]
    }
   ],
   "source": [
    "# 결측치 제거\n",
    "# dropna() 결측치가 포함된 행 또는 열을 제거 axis=0 기본값 / how='any' 행을 제거 / axis=1 열을 제거 \n",
    "# how='all' 모든 값이 결측치일때 삭제 \n",
    "# thresh : 지정한 개수이상의 비결측치값이 있는 행, 열을 유지 \n",
    "print (df)\n",
    "print('===========df.dropna()=============')\n",
    "print (df.dropna())\n",
    "\n",
    "print('===========df.dropna(axis=1)=============')\n",
    "print (df.dropna(axis=1))\n",
    "\n",
    "print('===========df.dropna(how=all)=============')\n",
    "print(df.dropna(how='all'))  #==> 모든값이 nan인 행이 없어서 변화없음\n",
    "print (df.dropna(thresh=2)) #정상데이터가 2개이상인 행만 유지"
   ]
  },
  {
   "cell_type": "code",
   "execution_count": 44,
   "id": "d1d2ccc0",
   "metadata": {},
   "outputs": [
    {
     "name": "stdout",
     "output_type": "stream",
     "text": [
      "     A    B   C\n",
      "0  1.0  5.0   9\n",
      "1  2.0  NaN  10\n",
      "2  NaN  NaN  11\n",
      "3  4.0  8.0  12\n",
      "     A    B   C\n",
      "0  1.0  5.0   9\n",
      "1  2.0  0.0  10\n",
      "2  0.0  0.0  11\n",
      "3  4.0  8.0  12\n",
      "각 컬럼의 평균값 \n",
      "A     2.333333\n",
      "B     6.500000\n",
      "C    10.500000\n",
      "dtype: float64\n",
      "          A    B   C\n",
      "0  1.000000  5.0   9\n",
      "1  2.000000  6.5  10\n",
      "2  2.333333  6.5  11\n",
      "3  4.000000  8.0  12\n",
      "     A    B   C\n",
      "0  1.0  5.0   9\n",
      "1  2.0  8.0  10\n",
      "2  4.0  NaN  11\n",
      "3  NaN  NaN  12\n"
     ]
    }
   ],
   "source": [
    "# 결측치 대치\n",
    "# fillna() : 특정값으로 채움\n",
    "print(df)\n",
    "print (df.fillna(0))\n",
    "print(f'각 컬럼의 평균값 \\n{df.mean()}')\n",
    "print(df.fillna(df.mean())) #평균값으로 채움 / df.max() df.min() 으로도 채울 수 있음\n",
    "print(df.mode())\n",
    "# 수치데이터가 아닌 object형은 df.mode() 최빈값 \n"
   ]
  },
  {
   "cell_type": "code",
   "execution_count": 40,
   "id": "1a7020ba",
   "metadata": {},
   "outputs": [
    {
     "name": "stdout",
     "output_type": "stream",
     "text": [
      "     A\n",
      "0  1.0\n",
      "1  NaN\n",
      "2  3.0\n",
      "3  NaN\n",
      "4  NaN\n",
      "5  6.0\n",
      "6  NaN\n",
      "==========ffill (앞에값으로 채워짐)=================\n",
      "0    1.0\n",
      "1    1.0\n",
      "2    3.0\n",
      "3    3.0\n",
      "4    3.0\n",
      "5    6.0\n",
      "6    6.0\n",
      "Name: A, dtype: float64\n",
      "==========bfill (뒤에값으로 채워짐)=================\n",
      "0    1.0\n",
      "1    3.0\n",
      "2    3.0\n",
      "3    6.0\n",
      "4    6.0\n",
      "5    6.0\n",
      "6    NaN\n",
      "Name: A, dtype: float64\n"
     ]
    }
   ],
   "source": [
    "df=pd.DataFrame({\n",
    "    'A' : [1, np.nan, 3, np.nan, np.nan, 6, np.nan]\n",
    "})\n",
    "print(df)\n",
    "print ('==========ffill (앞에값으로 채워짐)=================')\n",
    "print (df['A'].ffill())   \n",
    "print ('==========bfill (뒤에값으로 채워짐)=================')\n",
    "print (df['A'].bfill())   \n"
   ]
  },
  {
   "cell_type": "code",
   "execution_count": null,
   "id": "aa4ef687",
   "metadata": {},
   "outputs": [],
   "source": []
  },
  {
   "cell_type": "code",
   "execution_count": null,
   "id": "46320de9",
   "metadata": {},
   "outputs": [
    {
     "name": "stdout",
     "output_type": "stream",
     "text": [
      "     A\n",
      "0  1.0\n",
      "1  2.0\n",
      "2  NaN\n",
      "3  4.0\n",
      "4  NaN\n",
      "5  7.0\n",
      "============interpolate=====================\n",
      "0    1.0\n",
      "1    2.0\n",
      "2    3.0\n",
      "3    4.0\n",
      "4    5.5\n",
      "5    7.0\n",
      "Name: A, dtype: float64\n",
      "============ffill=====================\n",
      "0    1.0\n",
      "1    2.0\n",
      "2    2.0\n",
      "3    4.0\n",
      "4    4.0\n",
      "5    7.0\n",
      "Name: A, dtype: float64\n",
      "============mean=====================\n",
      "     A\n",
      "0  1.0\n",
      "1  2.0\n",
      "2  3.5\n",
      "3  4.0\n",
      "4  3.5\n",
      "5  7.0\n"
     ]
    }
   ],
   "source": [
    "# 보간법 interpolation 결측치 주변값들을 기반으로 한 선형적인 값으로 채움 (값이 있는 애들을 선(직선, 곡선 모두포함)으로 그어서 예상되는 값으로 채움)\n",
    "# ====> X축이 시계열 데이터일때 (ex. x축 1980, 1990, 2000년대 이런거) 추세를 반영\n",
    "# 머신러닝 기반 : knn, randomforest 등등 ...svn...\n",
    "\n",
    "df=pd.DataFrame({\n",
    "    'A' : [1, 2, np.nan, 4, np.nan, 7]\n",
    "})\n",
    "print(df)\n",
    "print('============interpolate=====================')\n",
    "print(df['A'].interpolate())\n",
    "print('============ffill=====================')\n",
    "print(df['A'].ffill())\n",
    "print('============mean=====================')\n",
    "print(df.fillna(df.mean()))"
   ]
  },
  {
   "cell_type": "code",
   "execution_count": 63,
   "id": "d6c57309",
   "metadata": {},
   "outputs": [],
   "source": [
    "# matplotlib 한글 폰트 오류 문제 해결\n",
    "from matplotlib import font_manager, rc\n",
    "font_path = \"C:\\\\Windows\\\\Fonts\\\\batang.ttc\"   #폰트파일의 위치 또는 사용하고자 하는 폰트를 본 폴더의 data 폴더에 넣어서 \"./data/malgun.ttf\" 이걸로 사용가능\n",
    "font_name = font_manager.FontProperties(fname=font_path).get_name()\n",
    "rc('font', family=font_name)"
   ]
  },
  {
   "cell_type": "code",
   "execution_count": 64,
   "id": "bb12202f-d4dd-41d5-b8bd-f4c78b69b0f9",
   "metadata": {
    "tags": []
   },
   "outputs": [
    {
     "data": {
      "image/png": "[encoded data removed]",
      "text/plain": [
       "<Figure size 640x480 with 1 Axes>"
      ]
     },
     "metadata": {},
     "output_type": "display_data"
    }
   ],
   "source": [
    "# 라이브러리 불러오기\n",
    "import pandas as pd\n",
    "import matplotlib.pyplot as plt\n",
    "\n",
    "# Excel 데이터를 데이터프레임 변환 \n",
    "df = pd.read_excel('./data/시도별_전출입_인구수.xlsx')\n",
    "df\n",
    "# 누락값(NaN)을 앞 데이터로 채움 (엑셀 양식 병합 부분)\n",
    "df = df.ffill()\n",
    "\n",
    "# 서울에서 다른 지역으로 이동한 데이터만 추출하여 정리\n",
    "mask = (df['전출지별'] == '서울특별시') & (df['전입지별'] != '서울특별시') \n",
    "df_seoul = df[mask]\n",
    "df_seoul = df_seoul.drop(['전출지별'], axis=1)\n",
    "df_seoul = df_seoul.rename({'전입지별':'전입지'}, axis=1)\n",
    "df_seoul = df_seoul.set_index('전입지')\n",
    "\n",
    "# 서울에서 경기도로 이동한 인구 데이터 값만 선택 \n",
    "sr_one = df_seoul.loc['경기도']\n",
    "\n",
    "# x, y축 데이터를 plot 함수에 입력\n",
    "plt.plot(sr_one.index, sr_one.values, linestyle=\"--\")\n",
    "\n",
    "# 차트 제목 추가\n",
    "plt.title('서울 -> 경기 인구 이동')\n",
    "\n",
    "# 축이름 추가\n",
    "plt.xlabel('기간')\n",
    "plt.ylabel('이동 인구수')\n",
    "\n",
    "plt.show()  # 변경사항 저장하고 그래프 출력"
   ]
  }
 ],
 "metadata": {
  "kernelspec": {
   "display_name": "streamlit_prj",
   "language": "python",
   "name": "python3"
  },
  "language_info": {
   "codemirror_mode": {
    "name": "ipython",
    "version": 3
   },
   "file_extension": ".py",
   "mimetype": "text/x-python",
   "name": "python",
   "nbconvert_exporter": "python",
   "pygments_lexer": "ipython3",
   "version": "3.13.7"
  }
 },
 "nbformat": 4,
 "nbformat_minor": 5
}
