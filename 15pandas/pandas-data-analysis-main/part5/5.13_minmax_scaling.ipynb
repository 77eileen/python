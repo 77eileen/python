{
 "cells": [
  {
   "cell_type": "code",
   "execution_count": 4,
   "id": "bb12202f-d4dd-41d5-b8bd-f4c78b69b0f9",
   "metadata": {
    "tags": []
   },
   "outputs": [
    {
     "data": {
      "text/plain": [
       "count    392.000000\n",
       "mean     104.469388\n",
       "std       38.491160\n",
       "min       46.000000\n",
       "25%       75.000000\n",
       "50%       93.500000\n",
       "75%      126.000000\n",
       "max      230.000000\n",
       "Name: horsepower, dtype: float64"
      ]
     },
     "execution_count": 4,
     "metadata": {},
     "output_type": "execute_result"
    }
   ],
   "source": [
    "# 라이브러리 불러오기\n",
    "import pandas as pd\n",
    "import numpy as np\n",
    "\n",
    "# read_csv() 함수로 df 생성\n",
    "df = pd.read_csv('./data/auto-mpg.csv', header=None)\n",
    "\n",
    "# 열 이름을 지정\n",
    "df.columns = ['mpg','cylinders','displacement','horsepower','weight',\n",
    "              'acceleration','model year','origin','name'] \n",
    "\n",
    "# horsepower 열의 누락 데이터('?') 삭제하고 실수형으로 변환\n",
    "df['horsepower'] = df['horsepower'].replace('?', np.nan)      # '?'을 np.nan으로 변경\n",
    "df = df.dropna(subset=['horsepower'], axis=0)                 # 누락데이터 행을 삭제\n",
    "df['horsepower'] = df['horsepower'].astype('float')           # 문자열을 실수형으로 변환\n",
    "\n",
    "# horsepower 열의 통계 요약정보로 최대값(max)을 확인\n",
    "df['horsepower'].describe()"
   ]
  },
  {
   "cell_type": "code",
   "execution_count": null,
   "id": "3e60302d-c776-44b4-984f-f8fa85f118f5",
   "metadata": {
    "tags": []
   },
   "outputs": [
    {
     "name": "stdout",
     "output_type": "stream",
     "text": [
      "0    0.456522\n",
      "1    0.646739\n",
      "2    0.565217\n",
      "3    0.565217\n",
      "4    0.510870\n",
      "Name: horsepower_minmax, dtype: float64\n",
      "0    130.0\n",
      "1    165.0\n",
      "2    150.0\n",
      "3    150.0\n",
      "4    140.0\n",
      "Name: horsepower, dtype: float64\n"
     ]
    }
   ],
   "source": [
    "# horsepower 열을 Min-Max Scaling 적용 (판다스) 0~1사이로 데이터 변경!!!!\n",
    "# 데이터의 범위(0~1사이로) 는 바뀌는데 데이터의 특성은 바뀌지 않았음!! \n",
    "# 이렇게 데이터 가공하는 이유: \n",
    "    #머신러닝은 값의 비율보다는 숫자를 있는 그대로 봐서 중요도를 선택하기 때문에..\n",
    "    #ex. A컬럼 키 170cm , 180cm / B컬럼 키 1.7m, 1.8m 이렇게 되면, 두 값의 비율차이는 동일하나,\n",
    "        # 머신러닝에서는 A컬럼의 차이를 10 B컬럼 차이를 0.1로 보고 A컬럼의 차이가 커서 A컬럼의 데이터를 더 중요하다고 생각하고 공부함.\n",
    "        # 그러므로 0~1 값으로 변경해주는 것이 필요함.\n",
    "\n",
    "# Min-Max Scaling = x - x.min / x.max - x.min\n",
    "df['horsepower_minmax'] = (df['horsepower'] - df['horsepower'].min()) / \\\n",
    "                          (df['horsepower'].max() - df['horsepower'].min()) \n",
    "\n",
    "print(df['horsepower_minmax'].head())\n",
    "print(df['horsepower'].head())"
   ]
  },
  {
   "cell_type": "code",
   "execution_count": 14,
   "id": "dd8a8642",
   "metadata": {},
   "outputs": [
    {
     "data": {
      "image/png": "[encoded data removed]",
      "text/plain": [
       "<Figure size 800x300 with 2 Axes>"
      ]
     },
     "metadata": {},
     "output_type": "display_data"
    }
   ],
   "source": [
    "import matplotlib.pyplot as plt\n",
    "f,ax = plt.subplots(1,2, figsize=(8,3))\n",
    "df.horsepower.hist (ax=ax[0])\n",
    "df.horsepower_minmax.hist(ax=ax[1])\n",
    "plt.show()\n",
    "#데이터의 범위(0~1사이로) 는 바뀌는데 데이터의 특성은 바뀌지 않았음!! "
   ]
  },
  {
   "cell_type": "code",
   "execution_count": null,
   "id": "c04f44c8-da19-4da5-8e97-1fc59738edd6",
   "metadata": {
    "tags": []
   },
   "outputs": [
    {
     "data": {
      "text/plain": [
       "0    0.456522\n",
       "1    0.646739\n",
       "2    0.565217\n",
       "3    0.565217\n",
       "4    0.510870\n",
       "Name: horsepower_minmax, dtype: float64"
      ]
     },
     "execution_count": 3,
     "metadata": {},
     "output_type": "execute_result"
    }
   ],
   "source": [
    "# horsepower 열을 Min-Max Scaling 적용 (사이킷런)\n",
    "# 단점 : 데이터에 이상치가 있으면 min / max 가 정확하지 않아서 결과적으로 min-max scaling도 정확도가 맞지 않을 수 있다. \n",
    "from sklearn.preprocessing import MinMaxScaler\n",
    "\n",
    "scaler = MinMaxScaler()\n",
    "df['horsepower_minmax'] = scaler.fit_transform(df[['horsepower']])\n",
    "df['horsepower_minmax'].head()"
   ]
  }
 ],
 "metadata": {
  "kernelspec": {
   "display_name": "streamlit_prj",
   "language": "python",
   "name": "python3"
  },
  "language_info": {
   "codemirror_mode": {
    "name": "ipython",
    "version": 3
   },
   "file_extension": ".py",
   "mimetype": "text/x-python",
   "name": "python",
   "nbconvert_exporter": "python",
   "pygments_lexer": "ipython3",
   "version": "3.13.7"
  }
 },
 "nbformat": 4,
 "nbformat_minor": 5
}
