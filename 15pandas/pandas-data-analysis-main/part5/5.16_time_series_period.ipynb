{
 "cells": [
  {
   "cell_type": "code",
   "execution_count": 13,
   "id": "bb12202f-d4dd-41d5-b8bd-f4c78b69b0f9",
   "metadata": {
    "tags": []
   },
   "outputs": [
    {
     "name": "stdout",
     "output_type": "stream",
     "text": [
      "= ts_dates 결과 : DatetimeIndex(['2019-01-01', '2019-01-05', '2019-01-15', '2020-03-01',\n",
      "               '2025-03-21', '2021-06-01'],\n",
      "              dtype='datetime64[ns]', freq=None)\n",
      "\n",
      "\n",
      "== pr_day 결과 : PeriodIndex(['2019-01-01', '2019-01-05', '2019-01-15', '2020-03-01',\n",
      "             '2025-03-21', '2021-06-01'],\n",
      "            dtype='period[D]')\n",
      "\n",
      "\n",
      "=== pr_month 결과 : PeriodIndex(['2019-01', '2019-01', '2019-01', '2020-03', '2025-03', '2021-06'], dtype='period[M]')\n",
      "\n",
      "\n",
      "==== pr_year 결과 : PeriodIndex(['2019', '2019', '2019', '2020', '2025', '2021'], dtype='period[Y-DEC]')\n"
     ]
    }
   ],
   "source": [
    "# 라이브러리 불러오기\n",
    "import pandas as pd\n",
    "\n",
    "# 날짜 형식의 문자열로 구성되는 리스트 정의\n",
    "dates = ['2019-01-01', '2019-01-05', '2019-01-15', '2020-03-01', '2025-03-21', '2021-06-01']\n",
    "\n",
    "# 문자열 데이터(시리즈 객체)를 판다스 Timestamp로 변환\n",
    "ts_dates = pd.to_datetime(dates)   \n",
    "print(f'= ts_dates 결과 : {ts_dates}') \n",
    "print(\"\\n\")\n",
    "\n",
    "# Timestamp를 Period로 변환\n",
    "pr_day = ts_dates.to_period(freq='D')\n",
    "print(f'== pr_day 결과 : {pr_day}')\n",
    "print(\"\\n\")\n",
    "\n",
    "pr_month = ts_dates.to_period(freq='M')\n",
    "print(f'=== pr_month 결과 : {pr_month}')\n",
    "print(\"\\n\")\n",
    "\n",
    "pr_year = ts_dates.to_period(freq='Y')\n",
    "print(f'==== pr_year 결과 : {pr_year}')"
   ]
  }
 ],
 "metadata": {
  "kernelspec": {
   "display_name": "streamlit_prj",
   "language": "python",
   "name": "python3"
  },
  "language_info": {
   "codemirror_mode": {
    "name": "ipython",
    "version": 3
   },
   "file_extension": ".py",
   "mimetype": "text/x-python",
   "name": "python",
   "nbconvert_exporter": "python",
   "pygments_lexer": "ipython3",
   "version": "3.13.7"
  }
 },
 "nbformat": 4,
 "nbformat_minor": 5
}
