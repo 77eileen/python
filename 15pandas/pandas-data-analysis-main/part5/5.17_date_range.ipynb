{
 "cells": [
  {
   "cell_type": "code",
   "execution_count": null,
   "id": "bb12202f-d4dd-41d5-b8bd-f4c78b69b0f9",
   "metadata": {
    "tags": []
   },
   "outputs": [
    {
     "name": "stdout",
     "output_type": "stream",
     "text": [
      "DatetimeIndex(['2024-01-01 00:00:00+09:00', '2024-02-01 00:00:00+09:00',\n",
      "               '2024-03-01 00:00:00+09:00', '2024-04-01 00:00:00+09:00',\n",
      "               '2024-05-01 00:00:00+09:00', '2024-06-01 00:00:00+09:00'],\n",
      "              dtype='datetime64[ns, Asia/Seoul]', freq='MS')\n"
     ]
    }
   ],
   "source": [
    "# pd.date_range()는\n",
    "# start + end + freq 조합,\n",
    "# start + periods + freq 조합,\n",
    "# start + end + periods 조합\n",
    "# 이렇게 3개 중 하나만 정상적으로 쓸 수 있어요.\n",
    "\n",
    "# 라이브러리 불러오기\n",
    "import pandas as pd\n",
    "\n",
    "# Timestamp의 배열 만들기 - 월 간격, 월의 시작일 기준\n",
    "ts_ms = pd.date_range(start='2024-01-01',    # 날짜 범위의 시작\n",
    "                   end=None,                 # 날짜 범위의 끝\n",
    "                   periods=6,                # 생성할 Timestamp의 개수\n",
    "                   freq='MS',                # 시간 간격 (MS: 월의 시작일)\n",
    "                   tz='Asia/Seoul')          # 시간대(timezone)\n",
    "\n",
    "print(ts_ms)"
   ]
  },
  {
   "cell_type": "code",
   "execution_count": 6,
   "id": "361bbbf8",
   "metadata": {},
   "outputs": [
    {
     "name": "stdout",
     "output_type": "stream",
     "text": [
      "DatetimeIndex(['2024-01-01 00:00:00+09:00', '2024-02-01 00:00:00+09:00',\n",
      "               '2024-03-01 00:00:00+09:00', '2024-04-01 00:00:00+09:00',\n",
      "               '2024-05-01 00:00:00+09:00', '2024-06-01 00:00:00+09:00',\n",
      "               '2024-07-01 00:00:00+09:00', '2024-08-01 00:00:00+09:00',\n",
      "               '2024-09-01 00:00:00+09:00', '2024-10-01 00:00:00+09:00',\n",
      "               '2024-11-01 00:00:00+09:00', '2024-12-01 00:00:00+09:00'],\n",
      "              dtype='datetime64[ns, Asia/Seoul]', freq='MS')\n"
     ]
    }
   ],
   "source": [
    "# Timestamp의 배열 만들기 - 월 간격, 월의 시작일 기준\n",
    "\n",
    "# pd.date_range()는\n",
    "# start + end + freq 조합,\n",
    "# start + periods + freq 조합,\n",
    "# start + end + periods 조합\n",
    "# 이렇게 3개 중 하나만 정상적으로 쓸 수 있어요.\n",
    "\n",
    "\n",
    "\n",
    "ts_ms = pd.date_range(start='2024-01-01',    # 날짜 범위의 시작\n",
    "                   end='2024-12-01',           # 날짜 범위의 끝 이걸쓰면, periods 없애야함.\n",
    "                   freq='MS',                # 시간 간격 (MS: 월의 시작일)\n",
    "                   tz='Asia/Seoul')          # 시간대(timezone)\n",
    "\n",
    "print(ts_ms)"
   ]
  },
  {
   "cell_type": "code",
   "execution_count": 2,
   "id": "3990552f-de01-45ba-9b17-23177042bd93",
   "metadata": {
    "tags": []
   },
   "outputs": [
    {
     "name": "stdout",
     "output_type": "stream",
     "text": [
      "DatetimeIndex(['2024-01-31 00:00:00+09:00', '2024-02-29 00:00:00+09:00',\n",
      "               '2024-03-31 00:00:00+09:00', '2024-04-30 00:00:00+09:00',\n",
      "               '2024-05-31 00:00:00+09:00', '2024-06-30 00:00:00+09:00'],\n",
      "              dtype='datetime64[ns, Asia/Seoul]', freq='ME')\n"
     ]
    }
   ],
   "source": [
    "# 월 간격, 월의 마지막 날 기준 (ME: 월의 마지막 날)\n",
    "ts_me = pd.date_range('2024-01-01', periods=6, \n",
    "                       freq='ME',              # 시간 간격 (ME: 월의 마지막 날)\n",
    "                       tz='Asia/Seoul')        # 시간대(timezone)\n",
    "print(ts_me)"
   ]
  },
  {
   "cell_type": "code",
   "execution_count": 3,
   "id": "bc3b3b4b-efd6-4659-ac76-b74897b3018c",
   "metadata": {
    "tags": []
   },
   "outputs": [
    {
     "name": "stdout",
     "output_type": "stream",
     "text": [
      "DatetimeIndex(['2024-01-01 00:00:00+09:00', '2024-04-01 00:00:00+09:00',\n",
      "               '2024-07-01 00:00:00+09:00', '2024-10-01 00:00:00+09:00',\n",
      "               '2025-01-01 00:00:00+09:00', '2025-04-01 00:00:00+09:00'],\n",
      "              dtype='datetime64[ns, Asia/Seoul]', freq='3MS')\n"
     ]
    }
   ],
   "source": [
    "# 분기(3개월) 간격, 월의 첫째 날 기준\n",
    "ts_3m = pd.date_range('2024-01-01', periods=6, \n",
    "                       freq='3MS',             # 시간 간격 (3MS: 3개월)\n",
    "                       tz='Asia/Seoul')        # 시간대(timezone)\n",
    "print(ts_3m)"
   ]
  }
 ],
 "metadata": {
  "kernelspec": {
   "display_name": "streamlit_prj",
   "language": "python",
   "name": "python3"
  },
  "language_info": {
   "codemirror_mode": {
    "name": "ipython",
    "version": 3
   },
   "file_extension": ".py",
   "mimetype": "text/x-python",
   "name": "python",
   "nbconvert_exporter": "python",
   "pygments_lexer": "ipython3",
   "version": "3.13.7"
  }
 },
 "nbformat": 4,
 "nbformat_minor": 5
}
